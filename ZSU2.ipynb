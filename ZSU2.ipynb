{
 "cells": [
  {
   "cell_type": "markdown",
   "id": "d3b46095-3365-47f7-bc5c-7e72759cb9d8",
   "metadata": {},
   "source": [
    "### Import libraries"
   ]
  },
  {
   "cell_type": "code",
   "execution_count": 1,
   "id": "4e0637da-41ec-4932-8db5-b22a2122d474",
   "metadata": {},
   "outputs": [],
   "source": [
    "import numpy as np\n",
    "import pandas as pd\n",
    "import sklearn\n",
    "import sklearn.preprocessing, sklearn.cluster, sklearn.metrics\n",
    "import scipy.spatial\n",
    "import matplotlib.pyplot as plt\n",
    "import seaborn as sns\n",
    "\n",
    "from sklearn.model_selection import train_test_split, StratifiedKFold, KFold\n",
    "from sklearn.tree import DecisionTreeClassifier\n",
    "from sklearn.metrics import accuracy_score, f1_score, recall_score, precision_score, confusion_matrix, auc\n",
    "from sklearn.ensemble import RandomForestClassifier\n",
    "from sklearn.neighbors import KNeighborsClassifier\n",
    "from sklearn.neural_network import MLPClassifier\n",
    "from prettytable import PrettyTable "
   ]
  },
  {
   "cell_type": "markdown",
   "id": "c2959797-1f21-4e09-8aca-6a127b0c8c11",
   "metadata": {},
   "source": [
    "### Loading dataset"
   ]
  },
  {
   "cell_type": "code",
   "execution_count": 2,
   "id": "b4bc0886-f0a3-40e1-9e91-f985c5c868d7",
   "metadata": {},
   "outputs": [
    {
     "data": {
      "text/html": [
       "<div>\n",
       "<style scoped>\n",
       "    .dataframe tbody tr th:only-of-type {\n",
       "        vertical-align: middle;\n",
       "    }\n",
       "\n",
       "    .dataframe tbody tr th {\n",
       "        vertical-align: top;\n",
       "    }\n",
       "\n",
       "    .dataframe thead th {\n",
       "        text-align: right;\n",
       "    }\n",
       "</style>\n",
       "<table border=\"1\" class=\"dataframe\">\n",
       "  <thead>\n",
       "    <tr style=\"text-align: right;\">\n",
       "      <th></th>\n",
       "      <th>CLIENTNUM</th>\n",
       "      <th>Attrition_Flag</th>\n",
       "      <th>Customer_Age</th>\n",
       "      <th>Gender</th>\n",
       "      <th>Dependent_count</th>\n",
       "      <th>Education_Level</th>\n",
       "      <th>Marital_Status</th>\n",
       "      <th>Income_Category</th>\n",
       "      <th>Card_Category</th>\n",
       "      <th>Months_on_book</th>\n",
       "      <th>...</th>\n",
       "      <th>Months_Inactive_12_mon</th>\n",
       "      <th>Contacts_Count_12_mon</th>\n",
       "      <th>Credit_Limit</th>\n",
       "      <th>Total_Revolving_Bal</th>\n",
       "      <th>Avg_Open_To_Buy</th>\n",
       "      <th>Total_Amt_Chng_Q4_Q1</th>\n",
       "      <th>Total_Trans_Amt</th>\n",
       "      <th>Total_Trans_Ct</th>\n",
       "      <th>Total_Ct_Chng_Q4_Q1</th>\n",
       "      <th>Avg_Utilization_Ratio</th>\n",
       "    </tr>\n",
       "  </thead>\n",
       "  <tbody>\n",
       "    <tr>\n",
       "      <th>0</th>\n",
       "      <td>768805383</td>\n",
       "      <td>Existing Customer</td>\n",
       "      <td>45</td>\n",
       "      <td>M</td>\n",
       "      <td>3</td>\n",
       "      <td>High School</td>\n",
       "      <td>Married</td>\n",
       "      <td>$60K - $80K</td>\n",
       "      <td>Blue</td>\n",
       "      <td>39</td>\n",
       "      <td>...</td>\n",
       "      <td>1</td>\n",
       "      <td>3</td>\n",
       "      <td>12691.0</td>\n",
       "      <td>777</td>\n",
       "      <td>11914.0</td>\n",
       "      <td>1.335</td>\n",
       "      <td>1144</td>\n",
       "      <td>42</td>\n",
       "      <td>1.625</td>\n",
       "      <td>0.061</td>\n",
       "    </tr>\n",
       "    <tr>\n",
       "      <th>1</th>\n",
       "      <td>818770008</td>\n",
       "      <td>Existing Customer</td>\n",
       "      <td>49</td>\n",
       "      <td>F</td>\n",
       "      <td>5</td>\n",
       "      <td>Graduate</td>\n",
       "      <td>Single</td>\n",
       "      <td>Less than $40K</td>\n",
       "      <td>Blue</td>\n",
       "      <td>44</td>\n",
       "      <td>...</td>\n",
       "      <td>1</td>\n",
       "      <td>2</td>\n",
       "      <td>8256.0</td>\n",
       "      <td>864</td>\n",
       "      <td>7392.0</td>\n",
       "      <td>1.541</td>\n",
       "      <td>1291</td>\n",
       "      <td>33</td>\n",
       "      <td>3.714</td>\n",
       "      <td>0.105</td>\n",
       "    </tr>\n",
       "    <tr>\n",
       "      <th>2</th>\n",
       "      <td>713982108</td>\n",
       "      <td>Existing Customer</td>\n",
       "      <td>51</td>\n",
       "      <td>M</td>\n",
       "      <td>3</td>\n",
       "      <td>Graduate</td>\n",
       "      <td>Married</td>\n",
       "      <td>$80K - $120K</td>\n",
       "      <td>Blue</td>\n",
       "      <td>36</td>\n",
       "      <td>...</td>\n",
       "      <td>1</td>\n",
       "      <td>0</td>\n",
       "      <td>3418.0</td>\n",
       "      <td>0</td>\n",
       "      <td>3418.0</td>\n",
       "      <td>2.594</td>\n",
       "      <td>1887</td>\n",
       "      <td>20</td>\n",
       "      <td>2.333</td>\n",
       "      <td>0.000</td>\n",
       "    </tr>\n",
       "    <tr>\n",
       "      <th>3</th>\n",
       "      <td>769911858</td>\n",
       "      <td>Existing Customer</td>\n",
       "      <td>40</td>\n",
       "      <td>F</td>\n",
       "      <td>4</td>\n",
       "      <td>High School</td>\n",
       "      <td>Unknown</td>\n",
       "      <td>Less than $40K</td>\n",
       "      <td>Blue</td>\n",
       "      <td>34</td>\n",
       "      <td>...</td>\n",
       "      <td>4</td>\n",
       "      <td>1</td>\n",
       "      <td>3313.0</td>\n",
       "      <td>2517</td>\n",
       "      <td>796.0</td>\n",
       "      <td>1.405</td>\n",
       "      <td>1171</td>\n",
       "      <td>20</td>\n",
       "      <td>2.333</td>\n",
       "      <td>0.760</td>\n",
       "    </tr>\n",
       "    <tr>\n",
       "      <th>4</th>\n",
       "      <td>709106358</td>\n",
       "      <td>Existing Customer</td>\n",
       "      <td>40</td>\n",
       "      <td>M</td>\n",
       "      <td>3</td>\n",
       "      <td>Uneducated</td>\n",
       "      <td>Married</td>\n",
       "      <td>$60K - $80K</td>\n",
       "      <td>Blue</td>\n",
       "      <td>21</td>\n",
       "      <td>...</td>\n",
       "      <td>1</td>\n",
       "      <td>0</td>\n",
       "      <td>4716.0</td>\n",
       "      <td>0</td>\n",
       "      <td>4716.0</td>\n",
       "      <td>2.175</td>\n",
       "      <td>816</td>\n",
       "      <td>28</td>\n",
       "      <td>2.500</td>\n",
       "      <td>0.000</td>\n",
       "    </tr>\n",
       "  </tbody>\n",
       "</table>\n",
       "<p>5 rows × 21 columns</p>\n",
       "</div>"
      ],
      "text/plain": [
       "   CLIENTNUM     Attrition_Flag  Customer_Age Gender  Dependent_count  \\\n",
       "0  768805383  Existing Customer            45      M                3   \n",
       "1  818770008  Existing Customer            49      F                5   \n",
       "2  713982108  Existing Customer            51      M                3   \n",
       "3  769911858  Existing Customer            40      F                4   \n",
       "4  709106358  Existing Customer            40      M                3   \n",
       "\n",
       "  Education_Level Marital_Status Income_Category Card_Category  \\\n",
       "0     High School        Married     $60K - $80K          Blue   \n",
       "1        Graduate         Single  Less than $40K          Blue   \n",
       "2        Graduate        Married    $80K - $120K          Blue   \n",
       "3     High School        Unknown  Less than $40K          Blue   \n",
       "4      Uneducated        Married     $60K - $80K          Blue   \n",
       "\n",
       "   Months_on_book  ...  Months_Inactive_12_mon  Contacts_Count_12_mon  \\\n",
       "0              39  ...                       1                      3   \n",
       "1              44  ...                       1                      2   \n",
       "2              36  ...                       1                      0   \n",
       "3              34  ...                       4                      1   \n",
       "4              21  ...                       1                      0   \n",
       "\n",
       "   Credit_Limit  Total_Revolving_Bal  Avg_Open_To_Buy  Total_Amt_Chng_Q4_Q1  \\\n",
       "0       12691.0                  777          11914.0                 1.335   \n",
       "1        8256.0                  864           7392.0                 1.541   \n",
       "2        3418.0                    0           3418.0                 2.594   \n",
       "3        3313.0                 2517            796.0                 1.405   \n",
       "4        4716.0                    0           4716.0                 2.175   \n",
       "\n",
       "   Total_Trans_Amt  Total_Trans_Ct  Total_Ct_Chng_Q4_Q1  Avg_Utilization_Ratio  \n",
       "0             1144              42                1.625                  0.061  \n",
       "1             1291              33                3.714                  0.105  \n",
       "2             1887              20                2.333                  0.000  \n",
       "3             1171              20                2.333                  0.760  \n",
       "4              816              28                2.500                  0.000  \n",
       "\n",
       "[5 rows x 21 columns]"
      ]
     },
     "execution_count": 2,
     "metadata": {},
     "output_type": "execute_result"
    }
   ],
   "source": [
    "df = pd.read_csv(\"BankChurners.csv\")\n",
    "df = df.iloc[:,:-2]\n",
    "df.head()"
   ]
  },
  {
   "cell_type": "markdown",
   "id": "e1b0fa42-486f-4063-a680-c3e94215b6a8",
   "metadata": {},
   "source": [
    "### We drop last 2 columns"
   ]
  },
  {
   "cell_type": "markdown",
   "id": "3ddb0b29-cf05-4795-a616-6c1f84f61a0c",
   "metadata": {},
   "source": [
    "# Dataset of Credit Card Customers\n",
    "Available attributes include:\n",
    "- `CLIENTNUM`: Unique identifier for the customer holding the account.\n",
    "- `Attrition_Flag`:  event (customer activity) variable - if the account is closed then 1 else 0\n",
    "- `Customer_Age`: Customer's Age in Years\n",
    "- `Gender`: M=Male, F=Female\n",
    "- `Dependent_count`: Number of dependents\n",
    "- `Education_Level`: Educational Qualification of the account holder (example: high school, college graduate, etc.)\n",
    "- `Marital_Status`: Married, Single, Divorced, Unknown\n",
    "- `Income_Category`: Annual Income Category of the account holder (< $40K, $40K - 60K, $60K - $80K, $80K-$120K, > $120K, Unknown)\n",
    "- `Card_Category`: Type of Card (Blue, Silver, Gold, Platinum)\n",
    "- `Monthsonbook `: Period of relationship with bank\n",
    "- `TotalRelationshipCount `: Total no. of products held by the customer\n",
    "- `MonthsInactive12_mon `: No. of months inactive in the last 12 months\n",
    "- `ContactsCount12_mon`: No. of Contacts in the last 12 months\n",
    "- `Credit_Limit `: Credit Limit on the Credit Card\n",
    "- `TotalRevolvingBal `: Total Revolving Balance on the Credit Card\n",
    "- `AvgOpenTo_Buy `: Open to Buy Credit Line (Average of last 12 months)\n",
    "- `TotalAmtChngQ4Q1 `: Change in Transaction Amount (Q4 over Q1)\n",
    "- `TotalTransAmt `: Total Transaction Amount (Last 12 months)\n",
    "- `TotalTransCt  `: Total Transaction Count (Last 12 months)\n",
    "- `TotalCtChngQ4Q1  `: Change in Transaction Count (Q4 over Q1)\n",
    "- `AvgUtilizationRatio  `: Average Card Utilization Ratio"
   ]
  },
  {
   "cell_type": "code",
   "execution_count": 3,
   "id": "294adc27-b279-4415-a550-f85358b91bce",
   "metadata": {},
   "outputs": [
    {
     "name": "stdout",
     "output_type": "stream",
     "text": [
      "<class 'pandas.core.frame.DataFrame'>\n",
      "RangeIndex: 10127 entries, 0 to 10126\n",
      "Data columns (total 21 columns):\n",
      " #   Column                    Non-Null Count  Dtype  \n",
      "---  ------                    --------------  -----  \n",
      " 0   CLIENTNUM                 10127 non-null  int64  \n",
      " 1   Attrition_Flag            10127 non-null  object \n",
      " 2   Customer_Age              10127 non-null  int64  \n",
      " 3   Gender                    10127 non-null  object \n",
      " 4   Dependent_count           10127 non-null  int64  \n",
      " 5   Education_Level           10127 non-null  object \n",
      " 6   Marital_Status            10127 non-null  object \n",
      " 7   Income_Category           10127 non-null  object \n",
      " 8   Card_Category             10127 non-null  object \n",
      " 9   Months_on_book            10127 non-null  int64  \n",
      " 10  Total_Relationship_Count  10127 non-null  int64  \n",
      " 11  Months_Inactive_12_mon    10127 non-null  int64  \n",
      " 12  Contacts_Count_12_mon     10127 non-null  int64  \n",
      " 13  Credit_Limit              10127 non-null  float64\n",
      " 14  Total_Revolving_Bal       10127 non-null  int64  \n",
      " 15  Avg_Open_To_Buy           10127 non-null  float64\n",
      " 16  Total_Amt_Chng_Q4_Q1      10127 non-null  float64\n",
      " 17  Total_Trans_Amt           10127 non-null  int64  \n",
      " 18  Total_Trans_Ct            10127 non-null  int64  \n",
      " 19  Total_Ct_Chng_Q4_Q1       10127 non-null  float64\n",
      " 20  Avg_Utilization_Ratio     10127 non-null  float64\n",
      "dtypes: float64(5), int64(10), object(6)\n",
      "memory usage: 1.6+ MB\n"
     ]
    }
   ],
   "source": [
    "df.info()"
   ]
  },
  {
   "cell_type": "markdown",
   "id": "620e8709-ff18-4038-885f-ebe4757d327e",
   "metadata": {},
   "source": [
    "### Get basic info about the dataset (number of rows/columns, data types, missing values)"
   ]
  },
  {
   "cell_type": "code",
   "execution_count": 4,
   "id": "a9ea9304-7aac-4433-bc0f-0aa609aec8af",
   "metadata": {},
   "outputs": [
    {
     "data": {
      "text/html": [
       "<div>\n",
       "<style scoped>\n",
       "    .dataframe tbody tr th:only-of-type {\n",
       "        vertical-align: middle;\n",
       "    }\n",
       "\n",
       "    .dataframe tbody tr th {\n",
       "        vertical-align: top;\n",
       "    }\n",
       "\n",
       "    .dataframe thead th {\n",
       "        text-align: right;\n",
       "    }\n",
       "</style>\n",
       "<table border=\"1\" class=\"dataframe\">\n",
       "  <thead>\n",
       "    <tr style=\"text-align: right;\">\n",
       "      <th></th>\n",
       "      <th>CLIENTNUM</th>\n",
       "      <th>Customer_Age</th>\n",
       "      <th>Dependent_count</th>\n",
       "      <th>Months_on_book</th>\n",
       "      <th>Total_Relationship_Count</th>\n",
       "      <th>Months_Inactive_12_mon</th>\n",
       "      <th>Contacts_Count_12_mon</th>\n",
       "      <th>Credit_Limit</th>\n",
       "      <th>Total_Revolving_Bal</th>\n",
       "      <th>Avg_Open_To_Buy</th>\n",
       "      <th>Total_Amt_Chng_Q4_Q1</th>\n",
       "      <th>Total_Trans_Amt</th>\n",
       "      <th>Total_Trans_Ct</th>\n",
       "      <th>Total_Ct_Chng_Q4_Q1</th>\n",
       "      <th>Avg_Utilization_Ratio</th>\n",
       "    </tr>\n",
       "  </thead>\n",
       "  <tbody>\n",
       "    <tr>\n",
       "      <th>count</th>\n",
       "      <td>1.012700e+04</td>\n",
       "      <td>10127.000000</td>\n",
       "      <td>10127.000000</td>\n",
       "      <td>10127.000000</td>\n",
       "      <td>10127.000000</td>\n",
       "      <td>10127.000000</td>\n",
       "      <td>10127.000000</td>\n",
       "      <td>10127.000000</td>\n",
       "      <td>10127.000000</td>\n",
       "      <td>10127.000000</td>\n",
       "      <td>10127.000000</td>\n",
       "      <td>10127.000000</td>\n",
       "      <td>10127.000000</td>\n",
       "      <td>10127.000000</td>\n",
       "      <td>10127.000000</td>\n",
       "    </tr>\n",
       "    <tr>\n",
       "      <th>mean</th>\n",
       "      <td>7.391776e+08</td>\n",
       "      <td>46.325960</td>\n",
       "      <td>2.346203</td>\n",
       "      <td>35.928409</td>\n",
       "      <td>3.812580</td>\n",
       "      <td>2.341167</td>\n",
       "      <td>2.455317</td>\n",
       "      <td>8631.953698</td>\n",
       "      <td>1162.814061</td>\n",
       "      <td>7469.139637</td>\n",
       "      <td>0.759941</td>\n",
       "      <td>4404.086304</td>\n",
       "      <td>64.858695</td>\n",
       "      <td>0.712222</td>\n",
       "      <td>0.274894</td>\n",
       "    </tr>\n",
       "    <tr>\n",
       "      <th>std</th>\n",
       "      <td>3.690378e+07</td>\n",
       "      <td>8.016814</td>\n",
       "      <td>1.298908</td>\n",
       "      <td>7.986416</td>\n",
       "      <td>1.554408</td>\n",
       "      <td>1.010622</td>\n",
       "      <td>1.106225</td>\n",
       "      <td>9088.776650</td>\n",
       "      <td>814.987335</td>\n",
       "      <td>9090.685324</td>\n",
       "      <td>0.219207</td>\n",
       "      <td>3397.129254</td>\n",
       "      <td>23.472570</td>\n",
       "      <td>0.238086</td>\n",
       "      <td>0.275691</td>\n",
       "    </tr>\n",
       "    <tr>\n",
       "      <th>min</th>\n",
       "      <td>7.080821e+08</td>\n",
       "      <td>26.000000</td>\n",
       "      <td>0.000000</td>\n",
       "      <td>13.000000</td>\n",
       "      <td>1.000000</td>\n",
       "      <td>0.000000</td>\n",
       "      <td>0.000000</td>\n",
       "      <td>1438.300000</td>\n",
       "      <td>0.000000</td>\n",
       "      <td>3.000000</td>\n",
       "      <td>0.000000</td>\n",
       "      <td>510.000000</td>\n",
       "      <td>10.000000</td>\n",
       "      <td>0.000000</td>\n",
       "      <td>0.000000</td>\n",
       "    </tr>\n",
       "    <tr>\n",
       "      <th>25%</th>\n",
       "      <td>7.130368e+08</td>\n",
       "      <td>41.000000</td>\n",
       "      <td>1.000000</td>\n",
       "      <td>31.000000</td>\n",
       "      <td>3.000000</td>\n",
       "      <td>2.000000</td>\n",
       "      <td>2.000000</td>\n",
       "      <td>2555.000000</td>\n",
       "      <td>359.000000</td>\n",
       "      <td>1324.500000</td>\n",
       "      <td>0.631000</td>\n",
       "      <td>2155.500000</td>\n",
       "      <td>45.000000</td>\n",
       "      <td>0.582000</td>\n",
       "      <td>0.023000</td>\n",
       "    </tr>\n",
       "    <tr>\n",
       "      <th>50%</th>\n",
       "      <td>7.179264e+08</td>\n",
       "      <td>46.000000</td>\n",
       "      <td>2.000000</td>\n",
       "      <td>36.000000</td>\n",
       "      <td>4.000000</td>\n",
       "      <td>2.000000</td>\n",
       "      <td>2.000000</td>\n",
       "      <td>4549.000000</td>\n",
       "      <td>1276.000000</td>\n",
       "      <td>3474.000000</td>\n",
       "      <td>0.736000</td>\n",
       "      <td>3899.000000</td>\n",
       "      <td>67.000000</td>\n",
       "      <td>0.702000</td>\n",
       "      <td>0.176000</td>\n",
       "    </tr>\n",
       "    <tr>\n",
       "      <th>75%</th>\n",
       "      <td>7.731435e+08</td>\n",
       "      <td>52.000000</td>\n",
       "      <td>3.000000</td>\n",
       "      <td>40.000000</td>\n",
       "      <td>5.000000</td>\n",
       "      <td>3.000000</td>\n",
       "      <td>3.000000</td>\n",
       "      <td>11067.500000</td>\n",
       "      <td>1784.000000</td>\n",
       "      <td>9859.000000</td>\n",
       "      <td>0.859000</td>\n",
       "      <td>4741.000000</td>\n",
       "      <td>81.000000</td>\n",
       "      <td>0.818000</td>\n",
       "      <td>0.503000</td>\n",
       "    </tr>\n",
       "    <tr>\n",
       "      <th>max</th>\n",
       "      <td>8.283431e+08</td>\n",
       "      <td>73.000000</td>\n",
       "      <td>5.000000</td>\n",
       "      <td>56.000000</td>\n",
       "      <td>6.000000</td>\n",
       "      <td>6.000000</td>\n",
       "      <td>6.000000</td>\n",
       "      <td>34516.000000</td>\n",
       "      <td>2517.000000</td>\n",
       "      <td>34516.000000</td>\n",
       "      <td>3.397000</td>\n",
       "      <td>18484.000000</td>\n",
       "      <td>139.000000</td>\n",
       "      <td>3.714000</td>\n",
       "      <td>0.999000</td>\n",
       "    </tr>\n",
       "  </tbody>\n",
       "</table>\n",
       "</div>"
      ],
      "text/plain": [
       "          CLIENTNUM  Customer_Age  Dependent_count  Months_on_book  \\\n",
       "count  1.012700e+04  10127.000000     10127.000000    10127.000000   \n",
       "mean   7.391776e+08     46.325960         2.346203       35.928409   \n",
       "std    3.690378e+07      8.016814         1.298908        7.986416   \n",
       "min    7.080821e+08     26.000000         0.000000       13.000000   \n",
       "25%    7.130368e+08     41.000000         1.000000       31.000000   \n",
       "50%    7.179264e+08     46.000000         2.000000       36.000000   \n",
       "75%    7.731435e+08     52.000000         3.000000       40.000000   \n",
       "max    8.283431e+08     73.000000         5.000000       56.000000   \n",
       "\n",
       "       Total_Relationship_Count  Months_Inactive_12_mon  \\\n",
       "count              10127.000000            10127.000000   \n",
       "mean                   3.812580                2.341167   \n",
       "std                    1.554408                1.010622   \n",
       "min                    1.000000                0.000000   \n",
       "25%                    3.000000                2.000000   \n",
       "50%                    4.000000                2.000000   \n",
       "75%                    5.000000                3.000000   \n",
       "max                    6.000000                6.000000   \n",
       "\n",
       "       Contacts_Count_12_mon  Credit_Limit  Total_Revolving_Bal  \\\n",
       "count           10127.000000  10127.000000         10127.000000   \n",
       "mean                2.455317   8631.953698          1162.814061   \n",
       "std                 1.106225   9088.776650           814.987335   \n",
       "min                 0.000000   1438.300000             0.000000   \n",
       "25%                 2.000000   2555.000000           359.000000   \n",
       "50%                 2.000000   4549.000000          1276.000000   \n",
       "75%                 3.000000  11067.500000          1784.000000   \n",
       "max                 6.000000  34516.000000          2517.000000   \n",
       "\n",
       "       Avg_Open_To_Buy  Total_Amt_Chng_Q4_Q1  Total_Trans_Amt  Total_Trans_Ct  \\\n",
       "count     10127.000000          10127.000000     10127.000000    10127.000000   \n",
       "mean       7469.139637              0.759941      4404.086304       64.858695   \n",
       "std        9090.685324              0.219207      3397.129254       23.472570   \n",
       "min           3.000000              0.000000       510.000000       10.000000   \n",
       "25%        1324.500000              0.631000      2155.500000       45.000000   \n",
       "50%        3474.000000              0.736000      3899.000000       67.000000   \n",
       "75%        9859.000000              0.859000      4741.000000       81.000000   \n",
       "max       34516.000000              3.397000     18484.000000      139.000000   \n",
       "\n",
       "       Total_Ct_Chng_Q4_Q1  Avg_Utilization_Ratio  \n",
       "count         10127.000000           10127.000000  \n",
       "mean              0.712222               0.274894  \n",
       "std               0.238086               0.275691  \n",
       "min               0.000000               0.000000  \n",
       "25%               0.582000               0.023000  \n",
       "50%               0.702000               0.176000  \n",
       "75%               0.818000               0.503000  \n",
       "max               3.714000               0.999000  "
      ]
     },
     "execution_count": 4,
     "metadata": {},
     "output_type": "execute_result"
    }
   ],
   "source": [
    "df.describe()"
   ]
  },
  {
   "cell_type": "markdown",
   "id": "7c3bc7b0-2c8e-4f0b-8931-380524d660f2",
   "metadata": {},
   "source": [
    "### Display statistical values (mean, median, min, max) for numerical columns"
   ]
  },
  {
   "cell_type": "markdown",
   "id": "c6fe82bf-3571-4e86-aa39-1fb6bf42b865",
   "metadata": {},
   "source": [
    "### Count the number of missing values in each column"
   ]
  },
  {
   "cell_type": "code",
   "execution_count": 5,
   "id": "e45cb548-196e-4c11-92b6-5ecbf9cb47bc",
   "metadata": {},
   "outputs": [
    {
     "data": {
      "text/plain": [
       "CLIENTNUM                   0\n",
       "Months_Inactive_12_mon      0\n",
       "Total_Ct_Chng_Q4_Q1         0\n",
       "Total_Trans_Ct              0\n",
       "Total_Trans_Amt             0\n",
       "Total_Amt_Chng_Q4_Q1        0\n",
       "Avg_Open_To_Buy             0\n",
       "Total_Revolving_Bal         0\n",
       "Credit_Limit                0\n",
       "Contacts_Count_12_mon       0\n",
       "Total_Relationship_Count    0\n",
       "Attrition_Flag              0\n",
       "Months_on_book              0\n",
       "Card_Category               0\n",
       "Income_Category             0\n",
       "Marital_Status              0\n",
       "Education_Level             0\n",
       "Dependent_count             0\n",
       "Gender                      0\n",
       "Customer_Age                0\n",
       "Avg_Utilization_Ratio       0\n",
       "dtype: int64"
      ]
     },
     "execution_count": 5,
     "metadata": {},
     "output_type": "execute_result"
    }
   ],
   "source": [
    "df.isna().sum().sort_values(ascending=False)"
   ]
  },
  {
   "cell_type": "markdown",
   "id": "6e8f1a4b-2241-4601-aba9-561e0a34b3d7",
   "metadata": {},
   "source": [
    "### There are not empty values, so there is no need to remove "
   ]
  },
  {
   "cell_type": "markdown",
   "id": "94dfac36-ecf0-4827-8d3a-e54cbfdd92cb",
   "metadata": {},
   "source": [
    "### Count rows and attributes"
   ]
  },
  {
   "cell_type": "code",
   "execution_count": 6,
   "id": "26bff9b9-253d-446d-a7d8-0d6fc9b4d17d",
   "metadata": {},
   "outputs": [
    {
     "data": {
      "text/plain": [
       "(10127, 21)"
      ]
     },
     "execution_count": 6,
     "metadata": {},
     "output_type": "execute_result"
    }
   ],
   "source": [
    "shape = df.shape\n",
    "shape"
   ]
  },
  {
   "cell_type": "markdown",
   "id": "93665f8f-8ec1-408a-87d4-5c7191bae327",
   "metadata": {},
   "source": [
    "This dataset contains 10127 records of customers with 21 attributes\n",
    "### Lets see, what data types our dataset have"
   ]
  },
  {
   "cell_type": "code",
   "execution_count": 7,
   "id": "c566f889-2ff1-4973-8b00-e1bd8f89319e",
   "metadata": {},
   "outputs": [
    {
     "data": {
      "text/plain": [
       "CLIENTNUM                     int64\n",
       "Attrition_Flag               object\n",
       "Customer_Age                  int64\n",
       "Gender                       object\n",
       "Dependent_count               int64\n",
       "Education_Level              object\n",
       "Marital_Status               object\n",
       "Income_Category              object\n",
       "Card_Category                object\n",
       "Months_on_book                int64\n",
       "Total_Relationship_Count      int64\n",
       "Months_Inactive_12_mon        int64\n",
       "Contacts_Count_12_mon         int64\n",
       "Credit_Limit                float64\n",
       "Total_Revolving_Bal           int64\n",
       "Avg_Open_To_Buy             float64\n",
       "Total_Amt_Chng_Q4_Q1        float64\n",
       "Total_Trans_Amt               int64\n",
       "Total_Trans_Ct                int64\n",
       "Total_Ct_Chng_Q4_Q1         float64\n",
       "Avg_Utilization_Ratio       float64\n",
       "dtype: object"
      ]
     },
     "execution_count": 7,
     "metadata": {},
     "output_type": "execute_result"
    }
   ],
   "source": [
    "dtypes = df.dtypes\n",
    "dtypes"
   ]
  },
  {
   "cell_type": "code",
   "execution_count": 8,
   "id": "84fc5489-da69-4043-ad3d-5a06e86b89b8",
   "metadata": {},
   "outputs": [
    {
     "data": {
      "image/png": "[encoded data removed]",
      "text/plain": [
       "<Figure size 1500x1000 with 16 Axes>"
      ]
     },
     "metadata": {},
     "output_type": "display_data"
    }
   ],
   "source": [
    "df.hist(bins=15, figsize=(15, 10))\n",
    "plt.show()"
   ]
  },
  {
   "cell_type": "markdown",
   "id": "e3117f96-1de9-4ee4-b99a-5e75129fbcfa",
   "metadata": {},
   "source": [
    "### Histograms for Numerical Features\n",
    "\n",
    "This set of histograms illustrates the distributions of numerical features in the dataset. Key observations:\n",
    "- `Customer_Age` follows a roughly normal distribution with most customers between 40 and 50 years old.\n",
    "- `Months_on_book` indicates that customers typically maintain a relationship with the bank for 35–40 months.\n",
    "- `Credit_Limit` is highly skewed, with many customers having lower credit limits.\n",
    "- Features like `Avg_Open_To_Buy`, `Total_Revoling_Bal` and `Avg_Utilization_Ratio` are also skewed, indicating potential outliers or a need for transformation.\n"
   ]
  },
  {
   "cell_type": "code",
   "execution_count": 9,
   "id": "4f2e07df-b3d4-4b80-a809-b746f8ea4185",
   "metadata": {},
   "outputs": [
    {
     "data": {
      "image/png": "[encoded data removed]",
      "text/plain": [
       "<Figure size 1200x800 with 2 Axes>"
      ]
     },
     "metadata": {},
     "output_type": "display_data"
    }
   ],
   "source": [
    "numerical_cols = df.select_dtypes(include=['number'])\n",
    "\n",
    "plt.figure(figsize=(12, 8))\n",
    "sns.heatmap(numerical_cols.corr(), square=True, cmap='RdYlGn')\n",
    "plt.title(\"Correlation Heatmap\")\n",
    "plt.show()"
   ]
  },
  {
   "cell_type": "markdown",
   "id": "820ee0f4-bb3a-47e6-9dbf-fe19e6aeb1d6",
   "metadata": {},
   "source": [
    "### Correlation Heatmap\n",
    "\n",
    "This heatmap shows the correlations between numerical features in the dataset. Observations:\n",
    "- High positive correlation between `Total_Trans_Amt` and `Total_Trans_Ct` suggests that as the number of transactions increases, so does the total transaction amount.\n",
    "- **Strong correlation**:\n",
    "    - `Avg_Open_To_Buy` and `Credit_Limit`: strongly correlated, as expected.\n",
    "    - `Monthsonbook` and `Customer_Age`: strongly correlated, which means that lot of customer are loyal for long period of time.\n",
    "- **Weak correlation**:\n",
    "    - `Avg_Utilization_Ratio` and `Credit_Limit`: The low correlation means that the percentage of credit used by customers is not strongly influenced by their total credit limit. This suggests that credit utilization reflects individual spending habits rather than credit availability.\n",
    "    - `Avg_Utilization_Ratio` and `Avg_Open_To_Buy`: The low correlation indicates that the remaining credit available does not significantly affect how much credit a customer uses. This highlights that `Avg_Utilization_Ratio` captures unique customer behavior patterns.\n"
   ]
  },
  {
   "cell_type": "code",
   "execution_count": 10,
   "id": "ed5b65df-0cd4-4c59-8aab-d49127dcb171",
   "metadata": {},
   "outputs": [
    {
     "data": {
      "image/png": "[encoded data removed]",
      "text/plain": [
       "<Figure size 640x480 with 1 Axes>"
      ]
     },
     "metadata": {},
     "output_type": "display_data"
    }
   ],
   "source": [
    "sns.countplot(x='Attrition_Flag', data=df)\n",
    "plt.title('Class Distribution')\n",
    "plt.show()"
   ]
  },
  {
   "cell_type": "markdown",
   "id": "6c9d6f20-fec1-4c7e-a07a-f8465ce7e31f",
   "metadata": {},
   "source": [
    "### Class Distribution\n",
    "\n",
    "This bar chart shows the distribution of the target variable, `Attrition_Flag`. Significantly more customers are labeled as 'Existing Customer' compared to 'Attrited Customer.' "
   ]
  },
  {
   "cell_type": "markdown",
   "id": "a9d1ea44-45c5-44f1-b350-26963e9d6de9",
   "metadata": {},
   "source": [
    "# We will move on preprocessing"
   ]
  },
  {
   "cell_type": "markdown",
   "id": "9477c7a4-701e-4d53-a60d-d51dfeccc38b",
   "metadata": {},
   "source": [
    "### Lets drop columns that are not needed"
   ]
  },
  {
   "cell_type": "code",
   "execution_count": 11,
   "id": "d4e37c9a-1a9d-4f20-a65c-82d5ad3c9b72",
   "metadata": {},
   "outputs": [
    {
     "data": {
      "text/html": [
       "<div>\n",
       "<style scoped>\n",
       "    .dataframe tbody tr th:only-of-type {\n",
       "        vertical-align: middle;\n",
       "    }\n",
       "\n",
       "    .dataframe tbody tr th {\n",
       "        vertical-align: top;\n",
       "    }\n",
       "\n",
       "    .dataframe thead th {\n",
       "        text-align: right;\n",
       "    }\n",
       "</style>\n",
       "<table border=\"1\" class=\"dataframe\">\n",
       "  <thead>\n",
       "    <tr style=\"text-align: right;\">\n",
       "      <th></th>\n",
       "      <th>Attrition_Flag</th>\n",
       "      <th>Customer_Age</th>\n",
       "      <th>Gender</th>\n",
       "      <th>Dependent_count</th>\n",
       "      <th>Education_Level</th>\n",
       "      <th>Marital_Status</th>\n",
       "      <th>Income_Category</th>\n",
       "      <th>Card_Category</th>\n",
       "      <th>Months_on_book</th>\n",
       "      <th>Total_Relationship_Count</th>\n",
       "      <th>Months_Inactive_12_mon</th>\n",
       "      <th>Contacts_Count_12_mon</th>\n",
       "      <th>Credit_Limit</th>\n",
       "      <th>Total_Revolving_Bal</th>\n",
       "      <th>Avg_Open_To_Buy</th>\n",
       "      <th>Total_Amt_Chng_Q4_Q1</th>\n",
       "      <th>Total_Trans_Amt</th>\n",
       "      <th>Total_Trans_Ct</th>\n",
       "      <th>Total_Ct_Chng_Q4_Q1</th>\n",
       "      <th>Avg_Utilization_Ratio</th>\n",
       "    </tr>\n",
       "  </thead>\n",
       "  <tbody>\n",
       "    <tr>\n",
       "      <th>0</th>\n",
       "      <td>Existing Customer</td>\n",
       "      <td>45</td>\n",
       "      <td>M</td>\n",
       "      <td>3</td>\n",
       "      <td>High School</td>\n",
       "      <td>Married</td>\n",
       "      <td>$60K - $80K</td>\n",
       "      <td>Blue</td>\n",
       "      <td>39</td>\n",
       "      <td>5</td>\n",
       "      <td>1</td>\n",
       "      <td>3</td>\n",
       "      <td>12691.0</td>\n",
       "      <td>777</td>\n",
       "      <td>11914.0</td>\n",
       "      <td>1.335</td>\n",
       "      <td>1144</td>\n",
       "      <td>42</td>\n",
       "      <td>1.625</td>\n",
       "      <td>0.061</td>\n",
       "    </tr>\n",
       "    <tr>\n",
       "      <th>1</th>\n",
       "      <td>Existing Customer</td>\n",
       "      <td>49</td>\n",
       "      <td>F</td>\n",
       "      <td>5</td>\n",
       "      <td>Graduate</td>\n",
       "      <td>Single</td>\n",
       "      <td>Less than $40K</td>\n",
       "      <td>Blue</td>\n",
       "      <td>44</td>\n",
       "      <td>6</td>\n",
       "      <td>1</td>\n",
       "      <td>2</td>\n",
       "      <td>8256.0</td>\n",
       "      <td>864</td>\n",
       "      <td>7392.0</td>\n",
       "      <td>1.541</td>\n",
       "      <td>1291</td>\n",
       "      <td>33</td>\n",
       "      <td>3.714</td>\n",
       "      <td>0.105</td>\n",
       "    </tr>\n",
       "    <tr>\n",
       "      <th>2</th>\n",
       "      <td>Existing Customer</td>\n",
       "      <td>51</td>\n",
       "      <td>M</td>\n",
       "      <td>3</td>\n",
       "      <td>Graduate</td>\n",
       "      <td>Married</td>\n",
       "      <td>$80K - $120K</td>\n",
       "      <td>Blue</td>\n",
       "      <td>36</td>\n",
       "      <td>4</td>\n",
       "      <td>1</td>\n",
       "      <td>0</td>\n",
       "      <td>3418.0</td>\n",
       "      <td>0</td>\n",
       "      <td>3418.0</td>\n",
       "      <td>2.594</td>\n",
       "      <td>1887</td>\n",
       "      <td>20</td>\n",
       "      <td>2.333</td>\n",
       "      <td>0.000</td>\n",
       "    </tr>\n",
       "    <tr>\n",
       "      <th>3</th>\n",
       "      <td>Existing Customer</td>\n",
       "      <td>40</td>\n",
       "      <td>F</td>\n",
       "      <td>4</td>\n",
       "      <td>High School</td>\n",
       "      <td>Unknown</td>\n",
       "      <td>Less than $40K</td>\n",
       "      <td>Blue</td>\n",
       "      <td>34</td>\n",
       "      <td>3</td>\n",
       "      <td>4</td>\n",
       "      <td>1</td>\n",
       "      <td>3313.0</td>\n",
       "      <td>2517</td>\n",
       "      <td>796.0</td>\n",
       "      <td>1.405</td>\n",
       "      <td>1171</td>\n",
       "      <td>20</td>\n",
       "      <td>2.333</td>\n",
       "      <td>0.760</td>\n",
       "    </tr>\n",
       "    <tr>\n",
       "      <th>4</th>\n",
       "      <td>Existing Customer</td>\n",
       "      <td>40</td>\n",
       "      <td>M</td>\n",
       "      <td>3</td>\n",
       "      <td>Uneducated</td>\n",
       "      <td>Married</td>\n",
       "      <td>$60K - $80K</td>\n",
       "      <td>Blue</td>\n",
       "      <td>21</td>\n",
       "      <td>5</td>\n",
       "      <td>1</td>\n",
       "      <td>0</td>\n",
       "      <td>4716.0</td>\n",
       "      <td>0</td>\n",
       "      <td>4716.0</td>\n",
       "      <td>2.175</td>\n",
       "      <td>816</td>\n",
       "      <td>28</td>\n",
       "      <td>2.500</td>\n",
       "      <td>0.000</td>\n",
       "    </tr>\n",
       "  </tbody>\n",
       "</table>\n",
       "</div>"
      ],
      "text/plain": [
       "      Attrition_Flag  Customer_Age Gender  Dependent_count Education_Level  \\\n",
       "0  Existing Customer            45      M                3     High School   \n",
       "1  Existing Customer            49      F                5        Graduate   \n",
       "2  Existing Customer            51      M                3        Graduate   \n",
       "3  Existing Customer            40      F                4     High School   \n",
       "4  Existing Customer            40      M                3      Uneducated   \n",
       "\n",
       "  Marital_Status Income_Category Card_Category  Months_on_book  \\\n",
       "0        Married     $60K - $80K          Blue              39   \n",
       "1         Single  Less than $40K          Blue              44   \n",
       "2        Married    $80K - $120K          Blue              36   \n",
       "3        Unknown  Less than $40K          Blue              34   \n",
       "4        Married     $60K - $80K          Blue              21   \n",
       "\n",
       "   Total_Relationship_Count  Months_Inactive_12_mon  Contacts_Count_12_mon  \\\n",
       "0                         5                       1                      3   \n",
       "1                         6                       1                      2   \n",
       "2                         4                       1                      0   \n",
       "3                         3                       4                      1   \n",
       "4                         5                       1                      0   \n",
       "\n",
       "   Credit_Limit  Total_Revolving_Bal  Avg_Open_To_Buy  Total_Amt_Chng_Q4_Q1  \\\n",
       "0       12691.0                  777          11914.0                 1.335   \n",
       "1        8256.0                  864           7392.0                 1.541   \n",
       "2        3418.0                    0           3418.0                 2.594   \n",
       "3        3313.0                 2517            796.0                 1.405   \n",
       "4        4716.0                    0           4716.0                 2.175   \n",
       "\n",
       "   Total_Trans_Amt  Total_Trans_Ct  Total_Ct_Chng_Q4_Q1  Avg_Utilization_Ratio  \n",
       "0             1144              42                1.625                  0.061  \n",
       "1             1291              33                3.714                  0.105  \n",
       "2             1887              20                2.333                  0.000  \n",
       "3             1171              20                2.333                  0.760  \n",
       "4              816              28                2.500                  0.000  "
      ]
     },
     "execution_count": 11,
     "metadata": {},
     "output_type": "execute_result"
    }
   ],
   "source": [
    "df = df.drop(columns=['CLIENTNUM'])\n",
    "df.head()"
   ]
  },
  {
   "cell_type": "code",
   "execution_count": 12,
   "id": "8f6c586d-21aa-4782-a97d-80cd1055612a",
   "metadata": {},
   "outputs": [
    {
     "data": {
      "text/html": [
       "<div>\n",
       "<style scoped>\n",
       "    .dataframe tbody tr th:only-of-type {\n",
       "        vertical-align: middle;\n",
       "    }\n",
       "\n",
       "    .dataframe tbody tr th {\n",
       "        vertical-align: top;\n",
       "    }\n",
       "\n",
       "    .dataframe thead th {\n",
       "        text-align: right;\n",
       "    }\n",
       "</style>\n",
       "<table border=\"1\" class=\"dataframe\">\n",
       "  <thead>\n",
       "    <tr style=\"text-align: right;\">\n",
       "      <th></th>\n",
       "      <th>Attrition_Flag</th>\n",
       "      <th>Customer_Age</th>\n",
       "      <th>Gender</th>\n",
       "      <th>Dependent_count</th>\n",
       "      <th>Months_on_book</th>\n",
       "      <th>Total_Relationship_Count</th>\n",
       "      <th>Months_Inactive_12_mon</th>\n",
       "      <th>Contacts_Count_12_mon</th>\n",
       "      <th>Credit_Limit</th>\n",
       "      <th>Total_Revolving_Bal</th>\n",
       "      <th>...</th>\n",
       "      <th>Income_Category_$120K +</th>\n",
       "      <th>Income_Category_$40K - $60K</th>\n",
       "      <th>Income_Category_$60K - $80K</th>\n",
       "      <th>Income_Category_$80K - $120K</th>\n",
       "      <th>Income_Category_Less than $40K</th>\n",
       "      <th>Income_Category_Unknown</th>\n",
       "      <th>Card_Category_Blue</th>\n",
       "      <th>Card_Category_Gold</th>\n",
       "      <th>Card_Category_Platinum</th>\n",
       "      <th>Card_Category_Silver</th>\n",
       "    </tr>\n",
       "  </thead>\n",
       "  <tbody>\n",
       "    <tr>\n",
       "      <th>0</th>\n",
       "      <td>1</td>\n",
       "      <td>45</td>\n",
       "      <td>1</td>\n",
       "      <td>3</td>\n",
       "      <td>39</td>\n",
       "      <td>5</td>\n",
       "      <td>1</td>\n",
       "      <td>3</td>\n",
       "      <td>12691.0</td>\n",
       "      <td>777</td>\n",
       "      <td>...</td>\n",
       "      <td>False</td>\n",
       "      <td>False</td>\n",
       "      <td>True</td>\n",
       "      <td>False</td>\n",
       "      <td>False</td>\n",
       "      <td>False</td>\n",
       "      <td>True</td>\n",
       "      <td>False</td>\n",
       "      <td>False</td>\n",
       "      <td>False</td>\n",
       "    </tr>\n",
       "    <tr>\n",
       "      <th>1</th>\n",
       "      <td>1</td>\n",
       "      <td>49</td>\n",
       "      <td>0</td>\n",
       "      <td>5</td>\n",
       "      <td>44</td>\n",
       "      <td>6</td>\n",
       "      <td>1</td>\n",
       "      <td>2</td>\n",
       "      <td>8256.0</td>\n",
       "      <td>864</td>\n",
       "      <td>...</td>\n",
       "      <td>False</td>\n",
       "      <td>False</td>\n",
       "      <td>False</td>\n",
       "      <td>False</td>\n",
       "      <td>True</td>\n",
       "      <td>False</td>\n",
       "      <td>True</td>\n",
       "      <td>False</td>\n",
       "      <td>False</td>\n",
       "      <td>False</td>\n",
       "    </tr>\n",
       "    <tr>\n",
       "      <th>2</th>\n",
       "      <td>1</td>\n",
       "      <td>51</td>\n",
       "      <td>1</td>\n",
       "      <td>3</td>\n",
       "      <td>36</td>\n",
       "      <td>4</td>\n",
       "      <td>1</td>\n",
       "      <td>0</td>\n",
       "      <td>3418.0</td>\n",
       "      <td>0</td>\n",
       "      <td>...</td>\n",
       "      <td>False</td>\n",
       "      <td>False</td>\n",
       "      <td>False</td>\n",
       "      <td>True</td>\n",
       "      <td>False</td>\n",
       "      <td>False</td>\n",
       "      <td>True</td>\n",
       "      <td>False</td>\n",
       "      <td>False</td>\n",
       "      <td>False</td>\n",
       "    </tr>\n",
       "    <tr>\n",
       "      <th>3</th>\n",
       "      <td>1</td>\n",
       "      <td>40</td>\n",
       "      <td>0</td>\n",
       "      <td>4</td>\n",
       "      <td>34</td>\n",
       "      <td>3</td>\n",
       "      <td>4</td>\n",
       "      <td>1</td>\n",
       "      <td>3313.0</td>\n",
       "      <td>2517</td>\n",
       "      <td>...</td>\n",
       "      <td>False</td>\n",
       "      <td>False</td>\n",
       "      <td>False</td>\n",
       "      <td>False</td>\n",
       "      <td>True</td>\n",
       "      <td>False</td>\n",
       "      <td>True</td>\n",
       "      <td>False</td>\n",
       "      <td>False</td>\n",
       "      <td>False</td>\n",
       "    </tr>\n",
       "    <tr>\n",
       "      <th>4</th>\n",
       "      <td>1</td>\n",
       "      <td>40</td>\n",
       "      <td>1</td>\n",
       "      <td>3</td>\n",
       "      <td>21</td>\n",
       "      <td>5</td>\n",
       "      <td>1</td>\n",
       "      <td>0</td>\n",
       "      <td>4716.0</td>\n",
       "      <td>0</td>\n",
       "      <td>...</td>\n",
       "      <td>False</td>\n",
       "      <td>False</td>\n",
       "      <td>True</td>\n",
       "      <td>False</td>\n",
       "      <td>False</td>\n",
       "      <td>False</td>\n",
       "      <td>True</td>\n",
       "      <td>False</td>\n",
       "      <td>False</td>\n",
       "      <td>False</td>\n",
       "    </tr>\n",
       "  </tbody>\n",
       "</table>\n",
       "<p>5 rows × 37 columns</p>\n",
       "</div>"
      ],
      "text/plain": [
       "   Attrition_Flag  Customer_Age  Gender  Dependent_count  Months_on_book  \\\n",
       "0               1            45       1                3              39   \n",
       "1               1            49       0                5              44   \n",
       "2               1            51       1                3              36   \n",
       "3               1            40       0                4              34   \n",
       "4               1            40       1                3              21   \n",
       "\n",
       "   Total_Relationship_Count  Months_Inactive_12_mon  Contacts_Count_12_mon  \\\n",
       "0                         5                       1                      3   \n",
       "1                         6                       1                      2   \n",
       "2                         4                       1                      0   \n",
       "3                         3                       4                      1   \n",
       "4                         5                       1                      0   \n",
       "\n",
       "   Credit_Limit  Total_Revolving_Bal  ...  Income_Category_$120K +  \\\n",
       "0       12691.0                  777  ...                    False   \n",
       "1        8256.0                  864  ...                    False   \n",
       "2        3418.0                    0  ...                    False   \n",
       "3        3313.0                 2517  ...                    False   \n",
       "4        4716.0                    0  ...                    False   \n",
       "\n",
       "   Income_Category_$40K - $60K  Income_Category_$60K - $80K  \\\n",
       "0                        False                         True   \n",
       "1                        False                        False   \n",
       "2                        False                        False   \n",
       "3                        False                        False   \n",
       "4                        False                         True   \n",
       "\n",
       "   Income_Category_$80K - $120K  Income_Category_Less than $40K  \\\n",
       "0                         False                           False   \n",
       "1                         False                            True   \n",
       "2                          True                           False   \n",
       "3                         False                            True   \n",
       "4                         False                           False   \n",
       "\n",
       "   Income_Category_Unknown  Card_Category_Blue  Card_Category_Gold  \\\n",
       "0                    False                True               False   \n",
       "1                    False                True               False   \n",
       "2                    False                True               False   \n",
       "3                    False                True               False   \n",
       "4                    False                True               False   \n",
       "\n",
       "   Card_Category_Platinum  Card_Category_Silver  \n",
       "0                   False                 False  \n",
       "1                   False                 False  \n",
       "2                   False                 False  \n",
       "3                   False                 False  \n",
       "4                   False                 False  \n",
       "\n",
       "[5 rows x 37 columns]"
      ]
     },
     "execution_count": 12,
     "metadata": {},
     "output_type": "execute_result"
    }
   ],
   "source": [
    "label_enc = sklearn.preprocessing.LabelEncoder()\n",
    "df['Attrition_Flag'] = label_enc.fit_transform(df['Attrition_Flag']) \n",
    "df['Gender'] = label_enc.fit_transform(df['Gender'])\n",
    "\n",
    "df_encoded = pd.get_dummies(df, columns=['Education_Level', 'Marital_Status', 'Income_Category', 'Card_Category'])\n",
    "df_encoded.head()"
   ]
  },
  {
   "cell_type": "markdown",
   "id": "d06ff457-a09f-4d08-8c98-a06dcb3cb111",
   "metadata": {},
   "source": [
    "#### **Label Encoding for `Attrition_Flag` and `Gender`**\n",
    "- **`Attrition_Flag`**:\n",
    "  - This column is binary (`Existing`/`Attrited`).\n",
    "  - Label Encoding is efficient and appropriate for binary features because it converts the categories into integers (`0` and `1`) without introducing unnecessary complexity.\n",
    "\n",
    "- **`Gender`**:\n",
    "  - This column is also binary (`Male`/`Female`).\n",
    "  - Label Encoding works well here for the same reasons as above. It assigns simple numeric labels (`0` and `1`) to the two categories, which are sufficient for the model to differentiate them.\n",
    "\n",
    "#### **One-Hot Encoding for Nominal Columns**\n",
    "- **Columns Encoded**: `Education_Level`, `Marital_Status`, `Income_Category`, and `Card_Category`.\n",
    "- These columns are **nominal categorical variables**, meaning their categories have no natural order (e.g., \"High School\" is not greater or less than \"Graduate\").\n",
    "- One-Hot Encoding is used to:\n",
    "  - Avoid introducing a false ordinal relationship.\n",
    "  - Represent each category as a separate binary column, ensuring that the model treats them independently."
   ]
  },
  {
   "cell_type": "code",
   "execution_count": 13,
   "id": "376103a1-71fb-4fca-8380-39438eea8173",
   "metadata": {},
   "outputs": [
    {
     "name": "stdout",
     "output_type": "stream",
     "text": [
      "There are 0 duplicate rows in the dataset.\n"
     ]
    }
   ],
   "source": [
    "duplicateRows = df_encoded.duplicated().sum()\n",
    "print(\"There are \" + str(duplicateRows) + \" duplicate rows in the dataset.\")"
   ]
  },
  {
   "cell_type": "markdown",
   "id": "8bb554f2-8552-494e-9806-79fb1d69cc05",
   "metadata": {},
   "source": [
    "### There are no duplicate rows in dataset"
   ]
  },
  {
   "cell_type": "code",
   "execution_count": 14,
   "id": "cc66f321-59f4-469e-8f88-fc8e6dde4774",
   "metadata": {},
   "outputs": [],
   "source": [
    "power_transform_features = ['Months_on_book', 'Credit_Limit', 'Total_Revolving_Bal', \n",
    "                            'Avg_Open_To_Buy', 'Avg_Utilization_Ratio']\n",
    "min_max_features = [col for col in df_encoded.columns if col not in power_transform_features and col != 'Attrition_Flag']\n",
    "\n",
    "power_transformer = sklearn.preprocessing.PowerTransformer()  \n",
    "df_encoded[power_transform_features] = power_transformer.fit_transform(df_encoded[power_transform_features])\n",
    "\n",
    "min_max_scaler = sklearn.preprocessing.MinMaxScaler()\n",
    "df_encoded[min_max_features] = min_max_scaler.fit_transform(df_encoded[min_max_features])"
   ]
  },
  {
   "cell_type": "markdown",
   "id": "5134848b-7790-4521-9448-f35a7f67e494",
   "metadata": {},
   "source": [
    "### Scaling\n",
    "To ensure the dataset is appropriately scaled for modeling, we applied the following transformations:\n",
    "\n",
    "1. **PowerTransformer**:\n",
    "   - Applied to skewed features (`Months_on_book`, `Credit_Limit`, `Total_Revolving_Bal`, `Avg_Open_To_Buy`, and `Avg_Utilization_Ratio`) to reduce skewness and make their distributions closer to normal. \n",
    "\n",
    "2. **Min-Max Scaling**:\n",
    "   - Applied to the remaining features (excluding `Attrition_Flag`) to scale them to the range [0, 1]. This ensures all features contribute equally to distance-based or gradient-based models like k-NN, SVM, or Neural Networks."
   ]
  },
  {
   "cell_type": "code",
   "execution_count": 15,
   "id": "2cf4384f-d462-4891-9a27-f6eee13f5fc3",
   "metadata": {},
   "outputs": [],
   "source": [
    "X, y = df_encoded.drop('Attrition_Flag', axis=1), df_encoded['Attrition_Flag']"
   ]
  },
  {
   "cell_type": "code",
   "execution_count": 16,
   "id": "0bb0eb1d-ceb1-4736-9ffa-68753e0ba6c7",
   "metadata": {},
   "outputs": [],
   "source": [
    "X_train, X_test, y_train, y_test = train_test_split(X, y, test_size=0.2, random_state=13)"
   ]
  },
  {
   "cell_type": "code",
   "execution_count": 17,
   "id": "cbe2d3ec-2555-43bd-948c-9e77baf04d8f",
   "metadata": {},
   "outputs": [
    {
     "data": {
      "text/plain": [
       "((8101, 36), (2026, 36), (8101,), (2026,))"
      ]
     },
     "execution_count": 17,
     "metadata": {},
     "output_type": "execute_result"
    }
   ],
   "source": [
    "X_train.shape, X_test.shape, y_train.shape, y_test.shape"
   ]
  },
  {
   "cell_type": "markdown",
   "id": "adf3eec4-c8a7-478a-aea7-711f2ee2c329",
   "metadata": {},
   "source": [
    "### Splitting the Dataset\n",
    "- **Purpose**: Split the dataset into training and testing sets to evaluate model performance.\n",
    "- **Details**:\n",
    "  - `test_size=0.2`: Allocates 20% of the data for testing and 80% for training.\n",
    "  - `random_state=13`: Ensures reproducibility of results.\n"
   ]
  },
  {
   "cell_type": "markdown",
   "id": "59cb6b0d-a27a-482f-ac07-39a254aaf1eb",
   "metadata": {},
   "source": [
    "# **DecisionTree** "
   ]
  },
  {
   "cell_type": "code",
   "execution_count": 18,
   "id": "aaed3fa7-54ac-437c-938d-16f90ba675c9",
   "metadata": {},
   "outputs": [
    {
     "data": {
      "text/html": [
       "<style>#sk-container-id-1 {\n",
       "  /* Definition of color scheme common for light and dark mode */\n",
       "  --sklearn-color-text: #000;\n",
       "  --sklearn-color-text-muted: #666;\n",
       "  --sklearn-color-line: gray;\n",
       "  /* Definition of color scheme for unfitted estimators */\n",
       "  --sklearn-color-unfitted-level-0: #fff5e6;\n",
       "  --sklearn-color-unfitted-level-1: #f6e4d2;\n",
       "  --sklearn-color-unfitted-level-2: #ffe0b3;\n",
       "  --sklearn-color-unfitted-level-3: chocolate;\n",
       "  /* Definition of color scheme for fitted estimators */\n",
       "  --sklearn-color-fitted-level-0: #f0f8ff;\n",
       "  --sklearn-color-fitted-level-1: #d4ebff;\n",
       "  --sklearn-color-fitted-level-2: #b3dbfd;\n",
       "  --sklearn-color-fitted-level-3: cornflowerblue;\n",
       "\n",
       "  /* Specific color for light theme */\n",
       "  --sklearn-color-text-on-default-background: var(--sg-text-color, var(--theme-code-foreground, var(--jp-content-font-color1, black)));\n",
       "  --sklearn-color-background: var(--sg-background-color, var(--theme-background, var(--jp-layout-color0, white)));\n",
       "  --sklearn-color-border-box: var(--sg-text-color, var(--theme-code-foreground, var(--jp-content-font-color1, black)));\n",
       "  --sklearn-color-icon: #696969;\n",
       "\n",
       "  @media (prefers-color-scheme: dark) {\n",
       "    /* Redefinition of color scheme for dark theme */\n",
       "    --sklearn-color-text-on-default-background: var(--sg-text-color, var(--theme-code-foreground, var(--jp-content-font-color1, white)));\n",
       "    --sklearn-color-background: var(--sg-background-color, var(--theme-background, var(--jp-layout-color0, #111)));\n",
       "    --sklearn-color-border-box: var(--sg-text-color, var(--theme-code-foreground, var(--jp-content-font-color1, white)));\n",
       "    --sklearn-color-icon: #878787;\n",
       "  }\n",
       "}\n",
       "\n",
       "#sk-container-id-1 {\n",
       "  color: var(--sklearn-color-text);\n",
       "}\n",
       "\n",
       "#sk-container-id-1 pre {\n",
       "  padding: 0;\n",
       "}\n",
       "\n",
       "#sk-container-id-1 input.sk-hidden--visually {\n",
       "  border: 0;\n",
       "  clip: rect(1px 1px 1px 1px);\n",
       "  clip: rect(1px, 1px, 1px, 1px);\n",
       "  height: 1px;\n",
       "  margin: -1px;\n",
       "  overflow: hidden;\n",
       "  padding: 0;\n",
       "  position: absolute;\n",
       "  width: 1px;\n",
       "}\n",
       "\n",
       "#sk-container-id-1 div.sk-dashed-wrapped {\n",
       "  border: 1px dashed var(--sklearn-color-line);\n",
       "  margin: 0 0.4em 0.5em 0.4em;\n",
       "  box-sizing: border-box;\n",
       "  padding-bottom: 0.4em;\n",
       "  background-color: var(--sklearn-color-background);\n",
       "}\n",
       "\n",
       "#sk-container-id-1 div.sk-container {\n",
       "  /* jupyter's `normalize.less` sets `[hidden] { display: none; }`\n",
       "     but bootstrap.min.css set `[hidden] { display: none !important; }`\n",
       "     so we also need the `!important` here to be able to override the\n",
       "     default hidden behavior on the sphinx rendered scikit-learn.org.\n",
       "     See: https://github.com/scikit-learn/scikit-learn/issues/21755 */\n",
       "  display: inline-block !important;\n",
       "  position: relative;\n",
       "}\n",
       "\n",
       "#sk-container-id-1 div.sk-text-repr-fallback {\n",
       "  display: none;\n",
       "}\n",
       "\n",
       "div.sk-parallel-item,\n",
       "div.sk-serial,\n",
       "div.sk-item {\n",
       "  /* draw centered vertical line to link estimators */\n",
       "  background-image: linear-gradient(var(--sklearn-color-text-on-default-background), var(--sklearn-color-text-on-default-background));\n",
       "  background-size: 2px 100%;\n",
       "  background-repeat: no-repeat;\n",
       "  background-position: center center;\n",
       "}\n",
       "\n",
       "/* Parallel-specific style estimator block */\n",
       "\n",
       "#sk-container-id-1 div.sk-parallel-item::after {\n",
       "  content: \"\";\n",
       "  width: 100%;\n",
       "  border-bottom: 2px solid var(--sklearn-color-text-on-default-background);\n",
       "  flex-grow: 1;\n",
       "}\n",
       "\n",
       "#sk-container-id-1 div.sk-parallel {\n",
       "  display: flex;\n",
       "  align-items: stretch;\n",
       "  justify-content: center;\n",
       "  background-color: var(--sklearn-color-background);\n",
       "  position: relative;\n",
       "}\n",
       "\n",
       "#sk-container-id-1 div.sk-parallel-item {\n",
       "  display: flex;\n",
       "  flex-direction: column;\n",
       "}\n",
       "\n",
       "#sk-container-id-1 div.sk-parallel-item:first-child::after {\n",
       "  align-self: flex-end;\n",
       "  width: 50%;\n",
       "}\n",
       "\n",
       "#sk-container-id-1 div.sk-parallel-item:last-child::after {\n",
       "  align-self: flex-start;\n",
       "  width: 50%;\n",
       "}\n",
       "\n",
       "#sk-container-id-1 div.sk-parallel-item:only-child::after {\n",
       "  width: 0;\n",
       "}\n",
       "\n",
       "/* Serial-specific style estimator block */\n",
       "\n",
       "#sk-container-id-1 div.sk-serial {\n",
       "  display: flex;\n",
       "  flex-direction: column;\n",
       "  align-items: center;\n",
       "  background-color: var(--sklearn-color-background);\n",
       "  padding-right: 1em;\n",
       "  padding-left: 1em;\n",
       "}\n",
       "\n",
       "\n",
       "/* Toggleable style: style used for estimator/Pipeline/ColumnTransformer box that is\n",
       "clickable and can be expanded/collapsed.\n",
       "- Pipeline and ColumnTransformer use this feature and define the default style\n",
       "- Estimators will overwrite some part of the style using the `sk-estimator` class\n",
       "*/\n",
       "\n",
       "/* Pipeline and ColumnTransformer style (default) */\n",
       "\n",
       "#sk-container-id-1 div.sk-toggleable {\n",
       "  /* Default theme specific background. It is overwritten whether we have a\n",
       "  specific estimator or a Pipeline/ColumnTransformer */\n",
       "  background-color: var(--sklearn-color-background);\n",
       "}\n",
       "\n",
       "/* Toggleable label */\n",
       "#sk-container-id-1 label.sk-toggleable__label {\n",
       "  cursor: pointer;\n",
       "  display: flex;\n",
       "  width: 100%;\n",
       "  margin-bottom: 0;\n",
       "  padding: 0.5em;\n",
       "  box-sizing: border-box;\n",
       "  text-align: center;\n",
       "  align-items: start;\n",
       "  justify-content: space-between;\n",
       "  gap: 0.5em;\n",
       "}\n",
       "\n",
       "#sk-container-id-1 label.sk-toggleable__label .caption {\n",
       "  font-size: 0.6rem;\n",
       "  font-weight: lighter;\n",
       "  color: var(--sklearn-color-text-muted);\n",
       "}\n",
       "\n",
       "#sk-container-id-1 label.sk-toggleable__label-arrow:before {\n",
       "  /* Arrow on the left of the label */\n",
       "  content: \"▸\";\n",
       "  float: left;\n",
       "  margin-right: 0.25em;\n",
       "  color: var(--sklearn-color-icon);\n",
       "}\n",
       "\n",
       "#sk-container-id-1 label.sk-toggleable__label-arrow:hover:before {\n",
       "  color: var(--sklearn-color-text);\n",
       "}\n",
       "\n",
       "/* Toggleable content - dropdown */\n",
       "\n",
       "#sk-container-id-1 div.sk-toggleable__content {\n",
       "  max-height: 0;\n",
       "  max-width: 0;\n",
       "  overflow: hidden;\n",
       "  text-align: left;\n",
       "  /* unfitted */\n",
       "  background-color: var(--sklearn-color-unfitted-level-0);\n",
       "}\n",
       "\n",
       "#sk-container-id-1 div.sk-toggleable__content.fitted {\n",
       "  /* fitted */\n",
       "  background-color: var(--sklearn-color-fitted-level-0);\n",
       "}\n",
       "\n",
       "#sk-container-id-1 div.sk-toggleable__content pre {\n",
       "  margin: 0.2em;\n",
       "  border-radius: 0.25em;\n",
       "  color: var(--sklearn-color-text);\n",
       "  /* unfitted */\n",
       "  background-color: var(--sklearn-color-unfitted-level-0);\n",
       "}\n",
       "\n",
       "#sk-container-id-1 div.sk-toggleable__content.fitted pre {\n",
       "  /* unfitted */\n",
       "  background-color: var(--sklearn-color-fitted-level-0);\n",
       "}\n",
       "\n",
       "#sk-container-id-1 input.sk-toggleable__control:checked~div.sk-toggleable__content {\n",
       "  /* Expand drop-down */\n",
       "  max-height: 200px;\n",
       "  max-width: 100%;\n",
       "  overflow: auto;\n",
       "}\n",
       "\n",
       "#sk-container-id-1 input.sk-toggleable__control:checked~label.sk-toggleable__label-arrow:before {\n",
       "  content: \"▾\";\n",
       "}\n",
       "\n",
       "/* Pipeline/ColumnTransformer-specific style */\n",
       "\n",
       "#sk-container-id-1 div.sk-label input.sk-toggleable__control:checked~label.sk-toggleable__label {\n",
       "  color: var(--sklearn-color-text);\n",
       "  background-color: var(--sklearn-color-unfitted-level-2);\n",
       "}\n",
       "\n",
       "#sk-container-id-1 div.sk-label.fitted input.sk-toggleable__control:checked~label.sk-toggleable__label {\n",
       "  background-color: var(--sklearn-color-fitted-level-2);\n",
       "}\n",
       "\n",
       "/* Estimator-specific style */\n",
       "\n",
       "/* Colorize estimator box */\n",
       "#sk-container-id-1 div.sk-estimator input.sk-toggleable__control:checked~label.sk-toggleable__label {\n",
       "  /* unfitted */\n",
       "  background-color: var(--sklearn-color-unfitted-level-2);\n",
       "}\n",
       "\n",
       "#sk-container-id-1 div.sk-estimator.fitted input.sk-toggleable__control:checked~label.sk-toggleable__label {\n",
       "  /* fitted */\n",
       "  background-color: var(--sklearn-color-fitted-level-2);\n",
       "}\n",
       "\n",
       "#sk-container-id-1 div.sk-label label.sk-toggleable__label,\n",
       "#sk-container-id-1 div.sk-label label {\n",
       "  /* The background is the default theme color */\n",
       "  color: var(--sklearn-color-text-on-default-background);\n",
       "}\n",
       "\n",
       "/* On hover, darken the color of the background */\n",
       "#sk-container-id-1 div.sk-label:hover label.sk-toggleable__label {\n",
       "  color: var(--sklearn-color-text);\n",
       "  background-color: var(--sklearn-color-unfitted-level-2);\n",
       "}\n",
       "\n",
       "/* Label box, darken color on hover, fitted */\n",
       "#sk-container-id-1 div.sk-label.fitted:hover label.sk-toggleable__label.fitted {\n",
       "  color: var(--sklearn-color-text);\n",
       "  background-color: var(--sklearn-color-fitted-level-2);\n",
       "}\n",
       "\n",
       "/* Estimator label */\n",
       "\n",
       "#sk-container-id-1 div.sk-label label {\n",
       "  font-family: monospace;\n",
       "  font-weight: bold;\n",
       "  display: inline-block;\n",
       "  line-height: 1.2em;\n",
       "}\n",
       "\n",
       "#sk-container-id-1 div.sk-label-container {\n",
       "  text-align: center;\n",
       "}\n",
       "\n",
       "/* Estimator-specific */\n",
       "#sk-container-id-1 div.sk-estimator {\n",
       "  font-family: monospace;\n",
       "  border: 1px dotted var(--sklearn-color-border-box);\n",
       "  border-radius: 0.25em;\n",
       "  box-sizing: border-box;\n",
       "  margin-bottom: 0.5em;\n",
       "  /* unfitted */\n",
       "  background-color: var(--sklearn-color-unfitted-level-0);\n",
       "}\n",
       "\n",
       "#sk-container-id-1 div.sk-estimator.fitted {\n",
       "  /* fitted */\n",
       "  background-color: var(--sklearn-color-fitted-level-0);\n",
       "}\n",
       "\n",
       "/* on hover */\n",
       "#sk-container-id-1 div.sk-estimator:hover {\n",
       "  /* unfitted */\n",
       "  background-color: var(--sklearn-color-unfitted-level-2);\n",
       "}\n",
       "\n",
       "#sk-container-id-1 div.sk-estimator.fitted:hover {\n",
       "  /* fitted */\n",
       "  background-color: var(--sklearn-color-fitted-level-2);\n",
       "}\n",
       "\n",
       "/* Specification for estimator info (e.g. \"i\" and \"?\") */\n",
       "\n",
       "/* Common style for \"i\" and \"?\" */\n",
       "\n",
       ".sk-estimator-doc-link,\n",
       "a:link.sk-estimator-doc-link,\n",
       "a:visited.sk-estimator-doc-link {\n",
       "  float: right;\n",
       "  font-size: smaller;\n",
       "  line-height: 1em;\n",
       "  font-family: monospace;\n",
       "  background-color: var(--sklearn-color-background);\n",
       "  border-radius: 1em;\n",
       "  height: 1em;\n",
       "  width: 1em;\n",
       "  text-decoration: none !important;\n",
       "  margin-left: 0.5em;\n",
       "  text-align: center;\n",
       "  /* unfitted */\n",
       "  border: var(--sklearn-color-unfitted-level-1) 1pt solid;\n",
       "  color: var(--sklearn-color-unfitted-level-1);\n",
       "}\n",
       "\n",
       ".sk-estimator-doc-link.fitted,\n",
       "a:link.sk-estimator-doc-link.fitted,\n",
       "a:visited.sk-estimator-doc-link.fitted {\n",
       "  /* fitted */\n",
       "  border: var(--sklearn-color-fitted-level-1) 1pt solid;\n",
       "  color: var(--sklearn-color-fitted-level-1);\n",
       "}\n",
       "\n",
       "/* On hover */\n",
       "div.sk-estimator:hover .sk-estimator-doc-link:hover,\n",
       ".sk-estimator-doc-link:hover,\n",
       "div.sk-label-container:hover .sk-estimator-doc-link:hover,\n",
       ".sk-estimator-doc-link:hover {\n",
       "  /* unfitted */\n",
       "  background-color: var(--sklearn-color-unfitted-level-3);\n",
       "  color: var(--sklearn-color-background);\n",
       "  text-decoration: none;\n",
       "}\n",
       "\n",
       "div.sk-estimator.fitted:hover .sk-estimator-doc-link.fitted:hover,\n",
       ".sk-estimator-doc-link.fitted:hover,\n",
       "div.sk-label-container:hover .sk-estimator-doc-link.fitted:hover,\n",
       ".sk-estimator-doc-link.fitted:hover {\n",
       "  /* fitted */\n",
       "  background-color: var(--sklearn-color-fitted-level-3);\n",
       "  color: var(--sklearn-color-background);\n",
       "  text-decoration: none;\n",
       "}\n",
       "\n",
       "/* Span, style for the box shown on hovering the info icon */\n",
       ".sk-estimator-doc-link span {\n",
       "  display: none;\n",
       "  z-index: 9999;\n",
       "  position: relative;\n",
       "  font-weight: normal;\n",
       "  right: .2ex;\n",
       "  padding: .5ex;\n",
       "  margin: .5ex;\n",
       "  width: min-content;\n",
       "  min-width: 20ex;\n",
       "  max-width: 50ex;\n",
       "  color: var(--sklearn-color-text);\n",
       "  box-shadow: 2pt 2pt 4pt #999;\n",
       "  /* unfitted */\n",
       "  background: var(--sklearn-color-unfitted-level-0);\n",
       "  border: .5pt solid var(--sklearn-color-unfitted-level-3);\n",
       "}\n",
       "\n",
       ".sk-estimator-doc-link.fitted span {\n",
       "  /* fitted */\n",
       "  background: var(--sklearn-color-fitted-level-0);\n",
       "  border: var(--sklearn-color-fitted-level-3);\n",
       "}\n",
       "\n",
       ".sk-estimator-doc-link:hover span {\n",
       "  display: block;\n",
       "}\n",
       "\n",
       "/* \"?\"-specific style due to the `<a>` HTML tag */\n",
       "\n",
       "#sk-container-id-1 a.estimator_doc_link {\n",
       "  float: right;\n",
       "  font-size: 1rem;\n",
       "  line-height: 1em;\n",
       "  font-family: monospace;\n",
       "  background-color: var(--sklearn-color-background);\n",
       "  border-radius: 1rem;\n",
       "  height: 1rem;\n",
       "  width: 1rem;\n",
       "  text-decoration: none;\n",
       "  /* unfitted */\n",
       "  color: var(--sklearn-color-unfitted-level-1);\n",
       "  border: var(--sklearn-color-unfitted-level-1) 1pt solid;\n",
       "}\n",
       "\n",
       "#sk-container-id-1 a.estimator_doc_link.fitted {\n",
       "  /* fitted */\n",
       "  border: var(--sklearn-color-fitted-level-1) 1pt solid;\n",
       "  color: var(--sklearn-color-fitted-level-1);\n",
       "}\n",
       "\n",
       "/* On hover */\n",
       "#sk-container-id-1 a.estimator_doc_link:hover {\n",
       "  /* unfitted */\n",
       "  background-color: var(--sklearn-color-unfitted-level-3);\n",
       "  color: var(--sklearn-color-background);\n",
       "  text-decoration: none;\n",
       "}\n",
       "\n",
       "#sk-container-id-1 a.estimator_doc_link.fitted:hover {\n",
       "  /* fitted */\n",
       "  background-color: var(--sklearn-color-fitted-level-3);\n",
       "}\n",
       "</style><div id=\"sk-container-id-1\" class=\"sk-top-container\"><div class=\"sk-text-repr-fallback\"><pre>DecisionTreeClassifier()</pre><b>In a Jupyter environment, please rerun this cell to show the HTML representation or trust the notebook. <br />On GitHub, the HTML representation is unable to render, please try loading this page with nbviewer.org.</b></div><div class=\"sk-container\" hidden><div class=\"sk-item\"><div class=\"sk-estimator fitted sk-toggleable\"><input class=\"sk-toggleable__control sk-hidden--visually\" id=\"sk-estimator-id-1\" type=\"checkbox\" checked><label for=\"sk-estimator-id-1\" class=\"sk-toggleable__label fitted sk-toggleable__label-arrow\"><div><div>DecisionTreeClassifier</div></div><div><a class=\"sk-estimator-doc-link fitted\" rel=\"noreferrer\" target=\"_blank\" href=\"https://scikit-learn.org/1.6/modules/generated/sklearn.tree.DecisionTreeClassifier.html\">?<span>Documentation for DecisionTreeClassifier</span></a><span class=\"sk-estimator-doc-link fitted\">i<span>Fitted</span></span></div></label><div class=\"sk-toggleable__content fitted\"><pre>DecisionTreeClassifier()</pre></div> </div></div></div></div>"
      ],
      "text/plain": [
       "DecisionTreeClassifier()"
      ]
     },
     "execution_count": 18,
     "metadata": {},
     "output_type": "execute_result"
    }
   ],
   "source": [
    "clf = DecisionTreeClassifier()\n",
    "clf.fit(X_train, y_train)"
   ]
  },
  {
   "cell_type": "markdown",
   "id": "c9254488-8df1-4f2d-aef1-15ab5b4f54cc",
   "metadata": {},
   "source": [
    "### Training the Decision Tree Model\n",
    "- **Purpose**: Train a Decision Tree classifier using the training dataset (`X_train`, `y_train`)."
   ]
  },
  {
   "cell_type": "code",
   "execution_count": 19,
   "id": "2bd1ea6b-6a69-4c3a-be50-18cba470d8fc",
   "metadata": {},
   "outputs": [],
   "source": [
    "y_pred = clf.predict(X_test)"
   ]
  },
  {
   "cell_type": "markdown",
   "id": "d5805d2e-6998-4880-b115-05967d893caf",
   "metadata": {},
   "source": [
    "### Making Predictions\n",
    "- **Purpose**: Use the trained Decision Tree model to predict the target variable for the test dataset (`X_test`).\n",
    "- **Output**: Predictions stored in `y_pred`.\n"
   ]
  },
  {
   "cell_type": "code",
   "execution_count": 20,
   "id": "9a314551-00e4-4c47-b2b0-15f714701bab",
   "metadata": {},
   "outputs": [
    {
     "name": "stdout",
     "output_type": "stream",
     "text": [
      "Accuracy: 0.9245\n",
      "Precision: 0.9547\n",
      "Recall: 0.9552\n",
      "F1-Score: 0.9549\n"
     ]
    }
   ],
   "source": [
    "accuracy = accuracy_score(y_test, y_pred)\n",
    "precision = precision_score(y_test, y_pred)\n",
    "recall = recall_score(y_test, y_pred)\n",
    "f1 = f1_score(y_test, y_pred)\n",
    "\n",
    "print(f\"Accuracy: {accuracy:.4f}\")\n",
    "print(f\"Precision: {precision:.4f}\")\n",
    "print(f\"Recall: {recall:.4f}\")\n",
    "print(f\"F1-Score: {f1:.4f}\")"
   ]
  },
  {
   "cell_type": "markdown",
   "id": "4ed8422f-4f71-44f7-a388-a4470846fc1a",
   "metadata": {},
   "source": [
    "### Decision Tree Model Performance\n",
    "\n",
    "The Decision Tree model was evaluated on the test dataset using the following metrics:\n",
    "\n",
    "- **Accuracy**: `0.9245`\n",
    "  - The model correctly predicted `92.45%` of the test samples.\n",
    "  - High accuracy indicates strong overall performance.\n",
    "\n",
    "- **Precision**: `0.9547`\n",
    "  - Out of all the samples predicted as positive (e.g., `Attrited Customer`), `95.47%` were actually correct.\n",
    "  - High precision means the model is good at minimizing false positives.\n",
    "\n",
    "- **Recall**: `0.9552`\n",
    "  - Out of all actual positive samples, the model correctly identified `95.52%`.\n",
    "  - High recall shows that the model captures most of the positive cases, minimizing false negatives.\n",
    "\n",
    "- **F1-Score**: `0.9549`\n",
    "  - The F1-score balances Precision and Recall, resulting in a harmonic mean of `95.49%`.\n",
    "  - This high score indicates the model performs well across both false positives and false negatives, making it robust for this classification task."
   ]
  },
  {
   "cell_type": "code",
   "execution_count": 21,
   "id": "502fd9d0-1278-4aa8-81f5-b51c19588da9",
   "metadata": {},
   "outputs": [
    {
     "data": {
      "text/plain": [
       "<Axes: >"
      ]
     },
     "execution_count": 21,
     "metadata": {},
     "output_type": "execute_result"
    },
    {
     "data": {
      "image/png": "[encoded data removed]",
      "text/plain": [
       "<Figure size 640x480 with 2 Axes>"
      ]
     },
     "metadata": {},
     "output_type": "display_data"
    }
   ],
   "source": [
    "sns.heatmap(confusion_matrix(y_test, y_pred), annot=True, cmap=\"Blues\")"
   ]
  },
  {
   "cell_type": "code",
   "execution_count": 22,
   "id": "3de15d53-4440-4239-9e9f-682654b63d4f",
   "metadata": {},
   "outputs": [
    {
     "data": {
      "text/plain": [
       "(252, 77, 76, 1621)"
      ]
     },
     "execution_count": 22,
     "metadata": {},
     "output_type": "execute_result"
    }
   ],
   "source": [
    "tn, fp, fn, tp = confusion_matrix(y_test, y_pred).ravel()\n",
    "tn, fp, fn, tp"
   ]
  },
  {
   "cell_type": "markdown",
   "id": "21d090fb-9804-4ca9-9600-34cedbb74656",
   "metadata": {},
   "source": [
    "### Why F1-Score Was Chosen\n",
    "F1-Score balances Precision and Recall, making it ideal for imbalanced datasets like customer churn prediction. It ensures we correctly identify most churners while minimizing unnecessary targeting of non-churners. This is crucial for effective customer retention strategies."
   ]
  },
  {
   "cell_type": "code",
   "execution_count": 23,
   "id": "736659c2-4630-45b5-8919-5f04bbb43e8a",
   "metadata": {},
   "outputs": [
    {
     "data": {
      "text/plain": [
       "(0.9219159816759925, 0.8474781032920568, 0.9638258736971184)"
      ]
     },
     "execution_count": 23,
     "metadata": {},
     "output_type": "execute_result"
    }
   ],
   "source": [
    "skf = KFold(n_splits=5, shuffle=False)\n",
    "scores = list()\n",
    "for train_index, test_index in skf.split(X, y):\n",
    "    X_train, X_test = X.iloc[train_index, :], X.iloc[test_index, :]\n",
    "    y_train, y_test = y.iloc[train_index], y.iloc[test_index]\n",
    "    clf = DecisionTreeClassifier()\n",
    "    clf.fit(X_train, y_train)\n",
    "    y_pred = clf.predict(X_test)\n",
    "    scores.append(f1_score(y_test, y_pred))\n",
    "np.mean(scores), np.min(scores), np.max(scores)"
   ]
  },
  {
   "cell_type": "markdown",
   "id": "18a48eb7-b0d7-452f-b99a-96ac2235eaf5",
   "metadata": {},
   "source": [
    "### Interpretation of K-Fold Results\n",
    "The average F1-Score of **0.9219** shows the model performs well overall, balancing Precision and Recall. The range from **0.8474** (minimum) to **0.9638** (maximum) suggests slight variability depending on the test fold. This indicates good performance with some room for improvement.\n"
   ]
  },
  {
   "cell_type": "markdown",
   "id": "772b41f0-2314-4c5b-8fc4-abff97b2d818",
   "metadata": {},
   "source": [
    "#### **Random Forest**\n",
    "- **Description**:\n",
    "  - An ensemble method that builds multiple decision trees and averages their predictions.\n",
    "  - Reduces overfitting compared to a single Decision Tree.\n",
    "- **Advantages**:\n",
    "  - Robust and stable.\n",
    "  - Handles missing and categorical data well.\n",
    "  - Works effectively on larger datasets.\n",
    "- **Disadvantages**:\n",
    "  - Less interpretable than a single Decision Tree.\n",
    "  - More computationally expensive."
   ]
  },
  {
   "cell_type": "code",
   "execution_count": 24,
   "id": "358602d1-2eee-4a56-8ef3-ef4a1ea7532f",
   "metadata": {},
   "outputs": [
    {
     "data": {
      "text/plain": [
       "(0.916709017506467, 0.9127371273712737, 0.9220466113045808)"
      ]
     },
     "execution_count": 24,
     "metadata": {},
     "output_type": "execute_result"
    }
   ],
   "source": [
    "skf = KFold(n_splits=5, shuffle=True)\n",
    "scores = list()\n",
    "for train_index, test_index in skf.split(X, y):\n",
    "    X_train, X_test = X.iloc[train_index, :], X.iloc[test_index, :]\n",
    "    y_train, y_test = y.iloc[train_index], y.iloc[test_index]\n",
    "    clf = RandomForestClassifier(max_depth=2, random_state=0)\n",
    "    clf.fit(X_train, y_train)\n",
    "    y_pred = clf.predict(X_test)\n",
    "    scores.append(f1_score(y_test, y_pred))\n",
    "    \n",
    "np.mean(scores), np.min(scores), np.max(scores)"
   ]
  },
  {
   "cell_type": "markdown",
   "id": "49520456-f989-4857-84ad-0af4cecdd3cc",
   "metadata": {},
   "source": [
    "#### **k-Nearest Neighbors (k-NN)**\n",
    "- **Description**:\n",
    "  - A distance-based algorithm that classifies a sample based on the majority class of its `k` nearest neighbors.\n",
    "  - The parameter `k` determines the number of neighbors considered for the vote.\n",
    "- **Advantages**:\n",
    "  - Simple and intuitive.\n",
    "  - Works well for localized patterns in the data.\n",
    "- **Disadvantages**:\n",
    "  - Sensitive to feature scaling and irrelevant features.\n",
    "  - Computationally expensive for large datasets."
   ]
  },
  {
   "cell_type": "code",
   "execution_count": 25,
   "id": "3ed71430-fa42-4bb7-8861-bd2b942e14e8",
   "metadata": {},
   "outputs": [
    {
     "data": {
      "text/plain": [
       "(0.9088201913096361, 0.9051339285714286, 0.9117728917339271)"
      ]
     },
     "execution_count": 25,
     "metadata": {},
     "output_type": "execute_result"
    }
   ],
   "source": [
    "skf = KFold(n_splits=5, shuffle=True, random_state=13)\n",
    "scores = list()\n",
    "for train_index, test_index in skf.split(X, y):\n",
    "    X_train, X_test = X.iloc[train_index, :], X.iloc[test_index, :]\n",
    "    y_train, y_test = y.iloc[train_index], y.iloc[test_index]\n",
    "    knn = KNeighborsClassifier(n_neighbors=5) \n",
    "    knn.fit(X_train, y_train)\n",
    "    y_pred = knn.predict(X_test)\n",
    "    scores.append(f1_score(y_test, y_pred))\n",
    "    \n",
    "np.mean(scores), np.min(scores), np.max(scores)\n"
   ]
  },
  {
   "cell_type": "markdown",
   "id": "c5858d24-f3d4-4825-9fa9-f70137831bf6",
   "metadata": {},
   "source": [
    "**Multi-layer Perceptron (MLP)**\n",
    "- **Description**:\n",
    "  - A neural network model that uses multiple layers to learn complex, non-linear relationships.\n",
    "  - Requires numerical inputs and proper scaling.\n",
    "- **Advantages**:\n",
    "  - Can model non-linear decision boundaries.\n",
    "  - Effective for datasets with complex patterns.\n",
    "- **Disadvantages**:\n",
    "  - Requires careful tuning of hyperparameters.\n",
    "  - Computationally intensive compared to simpler models."
   ]
  },
  {
   "cell_type": "code",
   "execution_count": 26,
   "id": "a6809174-9280-4cb8-a5e6-8d74b43b313f",
   "metadata": {},
   "outputs": [
    {
     "data": {
      "text/plain": [
       "(0.9463650192947359, 0.9443643701354857, 0.9496279336004579)"
      ]
     },
     "execution_count": 26,
     "metadata": {},
     "output_type": "execute_result"
    }
   ],
   "source": [
    "skf = KFold(n_splits=5, shuffle=True)\n",
    "scores = list()\n",
    "for train_index, test_index in skf.split(X, y):\n",
    "    X_train, X_test = X.iloc[train_index, :], X.iloc[test_index, :]\n",
    "    y_train, y_test = y.iloc[train_index], y.iloc[test_index]\n",
    "    clf = MLPClassifier(hidden_layer_sizes=(5,3), activation='relu', solver='adam', max_iter=1000, random_state=13)\n",
    "    clf.fit(X_train, y_train)\n",
    "    y_pred = clf.predict(X_test)\n",
    "    scores.append(f1_score(y_test, y_pred))\n",
    "    \n",
    "np.mean(scores), np.min(scores), np.max(scores)"
   ]
  },
  {
   "cell_type": "markdown",
   "id": "8aca6413-1492-4d58-9e8f-832f720f0aad",
   "metadata": {},
   "source": [
    "# **Hyper tuning**"
   ]
  },
  {
   "cell_type": "code",
   "execution_count": 27,
   "id": "8cb704a2-44a4-4365-a8ca-8f7f0d31210e",
   "metadata": {},
   "outputs": [],
   "source": [
    "metrics = PrettyTable([\"Algorithm\", \"Parameters\", \"Min\", \"Avg\", \"Max\"]) "
   ]
  },
  {
   "cell_type": "markdown",
   "id": "c6ead3b4-a030-42b3-9384-8b1b01c734b7",
   "metadata": {},
   "source": [
    "## DecisionTree"
   ]
  },
  {
   "cell_type": "markdown",
   "id": "12bc3cc5-bfb1-4376-af72-d916618ca8bf",
   "metadata": {},
   "source": [
    "max_feature = sqrt"
   ]
  },
  {
   "cell_type": "code",
   "execution_count": 28,
   "id": "1afaf001-4891-46f2-ab66-81b5d32af4dd",
   "metadata": {},
   "outputs": [
    {
     "data": {
      "text/plain": [
       "(0.9219518342545555, 0.8810082063305978, 0.956732223903177)"
      ]
     },
     "execution_count": 28,
     "metadata": {},
     "output_type": "execute_result"
    }
   ],
   "source": [
    "skf = KFold(n_splits=5, shuffle=False)\n",
    "scores = list()\n",
    "for train_index, test_index in skf.split(X, y):\n",
    "    X_train, X_test = X.iloc[train_index, :], X.iloc[test_index, :]\n",
    "    y_train, y_test = y.iloc[train_index], y.iloc[test_index]\n",
    "    clf = DecisionTreeClassifier(max_features = 'sqrt')\n",
    "    clf.fit(X_train, y_train)\n",
    "    y_pred = clf.predict(X_test)\n",
    "    scores.append(f1_score(y_test, y_pred))\n",
    "metrics.add_row([\"DecisionTree\", \"max_features = sqrt\", np.min(scores), np.mean(scores), np.max(scores)])       \n",
    "np.mean(scores), np.min(scores), np.max(scores)"
   ]
  },
  {
   "cell_type": "markdown",
   "id": "3a69275b-bd29-4b3c-b14f-5e6f963d41d4",
   "metadata": {},
   "source": [
    "max_feature = sqrt, max_depth = 10"
   ]
  },
  {
   "cell_type": "code",
   "execution_count": 29,
   "id": "9a471df2-adbd-4d8e-9bce-dd6fa675d0f3",
   "metadata": {},
   "outputs": [
    {
     "data": {
      "text/plain": [
       "(0.9197054580095914, 0.8704142011834319, 0.942162615255658)"
      ]
     },
     "execution_count": 29,
     "metadata": {},
     "output_type": "execute_result"
    }
   ],
   "source": [
    "skf = KFold(n_splits=5, shuffle=False)\n",
    "scores = list()\n",
    "for train_index, test_index in skf.split(X, y):\n",
    "    X_train, X_test = X.iloc[train_index, :], X.iloc[test_index, :]\n",
    "    y_train, y_test = y.iloc[train_index], y.iloc[test_index]\n",
    "    clf = DecisionTreeClassifier(max_features = 'sqrt', max_depth = 10)\n",
    "    clf.fit(X_train, y_train)\n",
    "    y_pred = clf.predict(X_test)\n",
    "    scores.append(f1_score(y_test, y_pred))\n",
    "metrics.add_row([\"DecisionTree\", \"max_features = sqrt, max_depth = 10\", np.min(scores), np.mean(scores), np.max(scores)])       \n",
    "np.mean(scores), np.min(scores), np.max(scores)"
   ]
  },
  {
   "cell_type": "markdown",
   "id": "610d4954-a8f7-41a2-be2e-e1de51fc20d4",
   "metadata": {},
   "source": [
    "## Random forest"
   ]
  },
  {
   "cell_type": "markdown",
   "id": "c7f04cc5-1aab-4c93-badc-474718eab53d",
   "metadata": {},
   "source": [
    "n_estimators = 50"
   ]
  },
  {
   "cell_type": "code",
   "execution_count": 30,
   "id": "c6c35bed-4b29-423f-baf1-c9b1635c88c8",
   "metadata": {},
   "outputs": [
    {
     "data": {
      "text/plain": [
       "(0.9762559089442882, 0.9740902474526929, 0.9794841735052755)"
      ]
     },
     "execution_count": 30,
     "metadata": {},
     "output_type": "execute_result"
    }
   ],
   "source": [
    "skf = KFold(n_splits=5, shuffle=True)\n",
    "scores = list()\n",
    "for train_index, test_index in skf.split(X, y):\n",
    "    X_train, X_test = X.iloc[train_index, :], X.iloc[test_index, :]\n",
    "    y_train, y_test = y.iloc[train_index], y.iloc[test_index]\n",
    "    clf = RandomForestClassifier(n_estimators = 50)\n",
    "    clf.fit(X_train, y_train)\n",
    "    y_pred = clf.predict(X_test)\n",
    "    scores.append(f1_score(y_test, y_pred))\n",
    "metrics.add_row([\"RandomForest\", \"n_estimators = 50\", np.min(scores), np.mean(scores), np.max(scores)])  \n",
    "np.mean(scores), np.min(scores), np.max(scores)"
   ]
  },
  {
   "cell_type": "markdown",
   "id": "77cadad2-5f17-4753-929b-3fabaa5e5902",
   "metadata": {},
   "source": [
    "min_samples_split = 5"
   ]
  },
  {
   "cell_type": "code",
   "execution_count": 31,
   "id": "3a2299ce-e610-4fc2-8be2-0df3e58566f2",
   "metadata": {},
   "outputs": [
    {
     "data": {
      "text/plain": [
       "(0.9745870221303286, 0.9716953603735046, 0.9783923941227312)"
      ]
     },
     "execution_count": 31,
     "metadata": {},
     "output_type": "execute_result"
    }
   ],
   "source": [
    "skf = KFold(n_splits=5, shuffle=True)\n",
    "scores = list()\n",
    "for train_index, test_index in skf.split(X, y):\n",
    "    X_train, X_test = X.iloc[train_index, :], X.iloc[test_index, :]\n",
    "    y_train, y_test = y.iloc[train_index], y.iloc[test_index]\n",
    "    clf = RandomForestClassifier(min_samples_split = 5)\n",
    "    clf.fit(X_train, y_train)\n",
    "    y_pred = clf.predict(X_test)\n",
    "    scores.append(f1_score(y_test, y_pred))\n",
    "metrics.add_row([\"RandomForest\", \"min_samples_split = 5\", np.min(scores), np.mean(scores), np.max(scores)])  \n",
    "np.mean(scores), np.min(scores), np.max(scores)"
   ]
  },
  {
   "cell_type": "markdown",
   "id": "bc221bc9-cf77-4416-9d2e-d2bb24eb9193",
   "metadata": {},
   "source": [
    "## k-NN"
   ]
  },
  {
   "cell_type": "markdown",
   "id": "3638e5e6-196f-45f5-b10f-acb9c65519e0",
   "metadata": {},
   "source": [
    "n_neighbors = 10"
   ]
  },
  {
   "cell_type": "code",
   "execution_count": 32,
   "id": "e962aacb-e050-4595-b03a-ee3361b8f567",
   "metadata": {},
   "outputs": [
    {
     "data": {
      "text/plain": [
       "(0.9091823925014457, 0.908228730822873, 0.9104560622914349)"
      ]
     },
     "execution_count": 32,
     "metadata": {},
     "output_type": "execute_result"
    }
   ],
   "source": [
    "skf = KFold(n_splits=5, shuffle=True)\n",
    "scores = list()\n",
    "for train_index, test_index in skf.split(X, y):\n",
    "    X_train, X_test = X.iloc[train_index, :], X.iloc[test_index, :]\n",
    "    y_train, y_test = y.iloc[train_index], y.iloc[test_index]\n",
    "    knn = KNeighborsClassifier(n_neighbors=10)\n",
    "    knn.fit(X_train, y_train)\n",
    "    y_pred = knn.predict(X_test)\n",
    "    scores.append(f1_score(y_test, y_pred))\n",
    "metrics.add_row([\"k-NN\", \"n_neighbors = 10\", np.min(scores), np.mean(scores), np.max(scores)])  \n",
    "np.mean(scores), np.min(scores), np.max(scores)"
   ]
  },
  {
   "cell_type": "markdown",
   "id": "f5f4a32a-76bc-4937-81df-2340b692d1a5",
   "metadata": {},
   "source": [
    "n_neighbors=5, weights='distance'"
   ]
  },
  {
   "cell_type": "code",
   "execution_count": 33,
   "id": "0a0d9569-cd49-40cf-a52d-b8f9e1dccd76",
   "metadata": {},
   "outputs": [
    {
     "data": {
      "text/plain": [
       "(0.9094186664741267, 0.9001967950520101, 0.9161793372319688)"
      ]
     },
     "execution_count": 33,
     "metadata": {},
     "output_type": "execute_result"
    }
   ],
   "source": [
    "skf = KFold(n_splits=5, shuffle=True)\n",
    "scores = list()\n",
    "for train_index, test_index in skf.split(X, y):\n",
    "    X_train, X_test = X.iloc[train_index, :], X.iloc[test_index, :]\n",
    "    y_train, y_test = y.iloc[train_index], y.iloc[test_index]\n",
    "    knn = KNeighborsClassifier(n_neighbors=5, weights='distance')\n",
    "    knn.fit(X_train, y_train)\n",
    "    y_pred = knn.predict(X_test)\n",
    "    scores.append(f1_score(y_test, y_pred))\n",
    "metrics.add_row([\"k-NN\", \"n_neighbors = 5, weights = 'distance'\", np.min(scores), np.mean(scores), np.max(scores)])  \n",
    "np.mean(scores), np.min(scores), np.max(scores)"
   ]
  },
  {
   "cell_type": "markdown",
   "id": "a9228fde-9012-45ae-a822-3ac11f55cabf",
   "metadata": {},
   "source": [
    "## MLP"
   ]
  },
  {
   "cell_type": "markdown",
   "id": "c0450eff-e34d-4cae-9317-5264fe6a866f",
   "metadata": {},
   "source": [
    "hidden_layer_sizes = 10, activation = relu, solver = adam"
   ]
  },
  {
   "cell_type": "code",
   "execution_count": 34,
   "id": "dd33fca2-5e10-45e5-9e0f-c8c2ff345521",
   "metadata": {},
   "outputs": [
    {
     "data": {
      "text/plain": [
       "(0.9585796763490221, 0.9573046761545164, 0.9601386481802426)"
      ]
     },
     "execution_count": 34,
     "metadata": {},
     "output_type": "execute_result"
    }
   ],
   "source": [
    "skf = KFold(n_splits=5, shuffle=True, random_state=13)\n",
    "scores = list()\n",
    "for train_index, test_index in skf.split(X, y):\n",
    "    X_train, X_test = X.iloc[train_index, :], X.iloc[test_index, :]\n",
    "    y_train, y_test = y.iloc[train_index], y.iloc[test_index]\n",
    "    clf = MLPClassifier(hidden_layer_sizes=(10,), activation='relu', solver='adam', max_iter=1000, random_state=13)\n",
    "    clf.fit(X_train, y_train)\n",
    "    y_pred = clf.predict(X_test)\n",
    "    scores.append(f1_score(y_test, y_pred))\n",
    "metrics.add_row([\"MLP\", \"hidden_layer_sizes = (10,), activation = 'relu', solver = 'adam'\", np.min(scores), np.mean(scores), np.max(scores)])  \n",
    "np.mean(scores), np.min(scores), np.max(scores)"
   ]
  },
  {
   "cell_type": "markdown",
   "id": "9bb57a6f-1e7f-407d-bdd7-c3617cae559a",
   "metadata": {},
   "source": [
    "hidden_layer_sizes = (20,10), activation = relu, solver = adam"
   ]
  },
  {
   "cell_type": "code",
   "execution_count": 35,
   "id": "1f0acd54-890c-4304-9178-bac1b34a025c",
   "metadata": {},
   "outputs": [
    {
     "data": {
      "text/plain": [
       "(0.9578438185949022, 0.954248366013072, 0.9604221635883905)"
      ]
     },
     "execution_count": 35,
     "metadata": {},
     "output_type": "execute_result"
    }
   ],
   "source": [
    "skf = KFold(n_splits=5, shuffle=True)\n",
    "scores = list()\n",
    "for train_index, test_index in skf.split(X, y):\n",
    "    X_train, X_test = X.iloc[train_index, :], X.iloc[test_index, :]\n",
    "    y_train, y_test = y.iloc[train_index], y.iloc[test_index]\n",
    "    clf = MLPClassifier(hidden_layer_sizes=(20, 10), activation='relu', solver='adam', max_iter=1000, random_state=13)\n",
    "    clf.fit(X_train, y_train)\n",
    "    y_pred = clf.predict(X_test)\n",
    "    scores.append(f1_score(y_test, y_pred))\n",
    "metrics.add_row([\"MLP\", \"hidden_layer_sizes = (20, 10), activation = 'relu', solver = 'adam'\",np.min(scores), np.mean(scores), np.max(scores)])  \n",
    "np.mean(scores), np.min(scores), np.max(scores)"
   ]
  },
  {
   "cell_type": "markdown",
   "id": "ea741fa9-6b76-472a-be97-6a15dfa32263",
   "metadata": {},
   "source": [
    "hidden_layer_sizes=(10,), activation='tanh', solver='adam'"
   ]
  },
  {
   "cell_type": "code",
   "execution_count": 36,
   "id": "ef5e01cd-5ca1-471d-b412-b9147ae91493",
   "metadata": {
    "scrolled": true
   },
   "outputs": [
    {
     "data": {
      "text/plain": [
       "(0.9583403185017592, 0.9531341534856473, 0.9615723085948958)"
      ]
     },
     "execution_count": 36,
     "metadata": {},
     "output_type": "execute_result"
    }
   ],
   "source": [
    "skf = KFold(n_splits=5, shuffle=True)\n",
    "scores = list()\n",
    "for train_index, test_index in skf.split(X, y):\n",
    "    X_train, X_test = X.iloc[train_index, :], X.iloc[test_index, :]\n",
    "    y_train, y_test = y.iloc[train_index], y.iloc[test_index]\n",
    "    clf = MLPClassifier(hidden_layer_sizes=(10,), activation='tanh', solver='adam', max_iter=1000, random_state=13)\n",
    "    clf.fit(X_train, y_train)\n",
    "    y_pred = clf.predict(X_test)\n",
    "    scores.append(f1_score(y_test, y_pred))\n",
    "metrics.add_row([\"MLP\", \"hidden_layer_sizes = (10,), activation = 'tanh', solver = 'adam'\",np.min(scores), np.mean(scores), np.max(scores)])  \n",
    "np.mean(scores), np.min(scores), np.max(scores)"
   ]
  },
  {
   "cell_type": "markdown",
   "id": "368005fa-f5fa-4f80-9fce-f56ff209dade",
   "metadata": {},
   "source": [
    "hidden_layer_sizes=(10,), activation='relu', solver='sgd'"
   ]
  },
  {
   "cell_type": "code",
   "execution_count": 37,
   "id": "bbbb1095-e564-4eb7-bc78-125da624b7b5",
   "metadata": {},
   "outputs": [
    {
     "data": {
      "text/plain": [
       "(0.9457530673526031, 0.9365994236311239, 0.9544678429140581)"
      ]
     },
     "execution_count": 37,
     "metadata": {},
     "output_type": "execute_result"
    }
   ],
   "source": [
    "skf = KFold(n_splits=5, shuffle=True)\n",
    "scores = list()\n",
    "for train_index, test_index in skf.split(X, y):\n",
    "    X_train, X_test = X.iloc[train_index, :], X.iloc[test_index, :]\n",
    "    y_train, y_test = y.iloc[train_index], y.iloc[test_index]\n",
    "    clf = MLPClassifier(hidden_layer_sizes=(10,), activation='relu', solver='sgd', max_iter=1000, random_state=13)\n",
    "    clf.fit(X_train, y_train)\n",
    "    y_pred = clf.predict(X_test)\n",
    "    scores.append(f1_score(y_test, y_pred))\n",
    "metrics.add_row([\"MLP\", \"hidden_layer_sizes = (10,), activation = 'relu', solver = 'sgd'\", np.min(scores), np.mean(scores), np.max(scores)])  \n",
    "np.mean(scores), np.min(scores), np.max(scores)"
   ]
  },
  {
   "cell_type": "markdown",
   "id": "4e283a0d-b37a-40c5-bb61-7ad8d462f376",
   "metadata": {},
   "source": [
    "hidden_layer_sizes=(10,), activation='relu', solver='adam', alpha=0.001"
   ]
  },
  {
   "cell_type": "code",
   "execution_count": 38,
   "id": "6d65341c-0a0b-4be1-b3b5-5a7f9b8c99b4",
   "metadata": {},
   "outputs": [
    {
     "data": {
      "text/plain": [
       "(0.9589141527570181, 0.950367107195301, 0.9635936582501468)"
      ]
     },
     "execution_count": 38,
     "metadata": {},
     "output_type": "execute_result"
    }
   ],
   "source": [
    "skf = KFold(n_splits=5, shuffle=True)\n",
    "scores = list()\n",
    "for train_index, test_index in skf.split(X, y):\n",
    "    X_train, X_test = X.iloc[train_index, :], X.iloc[test_index, :]\n",
    "    y_train, y_test = y.iloc[train_index], y.iloc[test_index]\n",
    "    clf = MLPClassifier(hidden_layer_sizes=(10,), activation='relu', solver='adam', alpha=0.001, max_iter=1000, random_state=13)\n",
    "    clf.fit(X_train, y_train)\n",
    "    y_pred = clf.predict(X_test)\n",
    "    scores.append(f1_score(y_test, y_pred))\n",
    "metrics.add_row([\"MLP\", \"hidden_layer_sizes = (10,), activation = 'relu', solver = 'adam', alpha = 0.001\",np.min(scores), np.mean(scores), np.max(scores)])  \n",
    "np.mean(scores), np.min(scores), np.max(scores)"
   ]
  },
  {
   "cell_type": "markdown",
   "id": "e924b828-4e6a-431f-828e-fc350ce0c307",
   "metadata": {},
   "source": [
    "hidden_layer_sizes=(50,25,10), activation='relu', solver='adam'"
   ]
  },
  {
   "cell_type": "code",
   "execution_count": 39,
   "id": "9778910e-e8e9-476f-9d99-ce9ea5a2c2ee",
   "metadata": {},
   "outputs": [
    {
     "data": {
      "text/plain": [
       "(0.944354508654962, 0.9411418481459682, 0.9516407599309153)"
      ]
     },
     "execution_count": 39,
     "metadata": {},
     "output_type": "execute_result"
    }
   ],
   "source": [
    "skf = KFold(n_splits=5, shuffle=True)\n",
    "scores = list()\n",
    "for train_index, test_index in skf.split(X, y):\n",
    "    X_train, X_test = X.iloc[train_index, :], X.iloc[test_index, :]\n",
    "    y_train, y_test = y.iloc[train_index], y.iloc[test_index]\n",
    "    clf = MLPClassifier(hidden_layer_sizes=(50, 25, 10), activation='relu', solver='adam', max_iter=1000, random_state=13)\n",
    "    clf.fit(X_train, y_train)\n",
    "    y_pred = clf.predict(X_test)\n",
    "    scores.append(f1_score(y_test, y_pred))\n",
    "metrics.add_row([\"MLP\", \"hidden_layer_sizes = (50,25,10), activation = 'relu', solver = 'adam'\",np.min(scores), np.mean(scores), np.max(scores)])  \n",
    "np.mean(scores), np.min(scores), np.max(scores)"
   ]
  },
  {
   "cell_type": "markdown",
   "id": "558f842a-33f9-4954-9e89-ca9f06fec54f",
   "metadata": {},
   "source": [
    "hidden_layer_sizes=(20, 10), activation='tanh', solver='adam'"
   ]
  },
  {
   "cell_type": "code",
   "execution_count": 40,
   "id": "75ffac70-97fa-4fea-bf18-873cb5babd82",
   "metadata": {},
   "outputs": [
    {
     "data": {
      "text/plain": [
       "(0.9573897989809902, 0.9468147282291058, 0.9643882825962091)"
      ]
     },
     "execution_count": 40,
     "metadata": {},
     "output_type": "execute_result"
    }
   ],
   "source": [
    "skf = KFold(n_splits=5, shuffle=True)\n",
    "scores = list()\n",
    "for train_index, test_index in skf.split(X, y):\n",
    "    X_train, X_test = X.iloc[train_index, :], X.iloc[test_index, :]\n",
    "    y_train, y_test = y.iloc[train_index], y.iloc[test_index]\n",
    "    clf = MLPClassifier(hidden_layer_sizes=(20, 10), activation='tanh', solver='adam', max_iter=1000, random_state=13)\n",
    "    clf.fit(X_train, y_train)\n",
    "    y_pred = clf.predict(X_test)\n",
    "    scores.append(f1_score(y_test, y_pred))\n",
    "metrics.add_row([\"MLP\", \"hidden_layer_sizes = (20,10), activation = 'tanh', solver = 'adam'\", np.min(scores), np.mean(scores), np.max(scores)])  \n",
    "np.mean(scores), np.min(scores), np.max(scores)"
   ]
  },
  {
   "cell_type": "markdown",
   "id": "fabf61bc-ef6c-4baf-8955-a92c0a6780fc",
   "metadata": {},
   "source": [
    "hidden_layer_sizes=(20, 10), activation='tanh', solver='adam'"
   ]
  },
  {
   "cell_type": "code",
   "execution_count": 41,
   "id": "ac8bc731-e552-43df-b15b-325d70133b2c",
   "metadata": {},
   "outputs": [
    {
     "data": {
      "text/plain": [
       "(0.9590196245246189, 0.9538551401869159, 0.9651128701260627)"
      ]
     },
     "execution_count": 41,
     "metadata": {},
     "output_type": "execute_result"
    }
   ],
   "source": [
    "skf = KFold(n_splits=5, shuffle=True)\n",
    "scores = list()\n",
    "for train_index, test_index in skf.split(X, y):\n",
    "    X_train, X_test = X.iloc[train_index, :], X.iloc[test_index, :]\n",
    "    y_train, y_test = y.iloc[train_index], y.iloc[test_index]\n",
    "    clf = MLPClassifier(hidden_layer_sizes=(20, 10), activation='tanh', solver='adam', max_iter=1000, random_state=13)\n",
    "    clf.fit(X_train, y_train)\n",
    "    y_pred = clf.predict(X_test)\n",
    "    scores.append(f1_score(y_test, y_pred))\n",
    "metrics.add_row([\"MLP\", \"hidden_layer_sizes = (20,10), activation = 'tanh', solver = 'adam'\",np.min(scores), np.mean(scores), np.max(scores)])  \n",
    "np.mean(scores), np.min(scores), np.max(scores)"
   ]
  },
  {
   "cell_type": "markdown",
   "id": "b17aeb68-17d9-4c06-b17f-02760f76c273",
   "metadata": {},
   "source": [
    "hidden_layer_sizes=(10), activation='relu', solver='adam', learning_rate='adaptive'"
   ]
  },
  {
   "cell_type": "code",
   "execution_count": 42,
   "id": "138f480d-d81c-423e-8dfe-87279f47b78d",
   "metadata": {},
   "outputs": [
    {
     "data": {
      "text/plain": [
       "(0.9577929544294557, 0.955425219941349, 0.9606253618992473)"
      ]
     },
     "execution_count": 42,
     "metadata": {},
     "output_type": "execute_result"
    }
   ],
   "source": [
    "skf = KFold(n_splits=5, shuffle=True)\n",
    "scores = list()\n",
    "for train_index, test_index in skf.split(X, y):\n",
    "    X_train, X_test = X.iloc[train_index, :], X.iloc[test_index, :]\n",
    "    y_train, y_test = y.iloc[train_index], y.iloc[test_index]\n",
    "    clf = MLPClassifier(hidden_layer_sizes=(10,), activation='relu', solver='adam', learning_rate='adaptive', max_iter=1000, random_state=13)\n",
    "    clf.fit(X_train, y_train)\n",
    "    y_pred = clf.predict(X_test)\n",
    "    scores.append(f1_score(y_test, y_pred))\n",
    "metrics.add_row([\"MLP\", \"hidden_layer_sizes = (10), activation = 'relu', solver = 'adam', learning_rate = 'adaptive'\",np.min(scores), np.mean(scores), np.max(scores)])   \n",
    "np.mean(scores), np.min(scores), np.max(scores)"
   ]
  },
  {
   "cell_type": "markdown",
   "id": "cba4dc6a-f563-49fd-b0d3-f19092c50481",
   "metadata": {},
   "source": [
    "hidden_layer_sizes=(15), activation='logistic', solver='adam'"
   ]
  },
  {
   "cell_type": "code",
   "execution_count": 43,
   "id": "191f7710-bd3e-4a27-ad6c-5ae5fe08faa7",
   "metadata": {},
   "outputs": [
    {
     "data": {
      "text/plain": [
       "(0.9601293106407025, 0.956597727934751, 0.9641712787649286)"
      ]
     },
     "execution_count": 43,
     "metadata": {},
     "output_type": "execute_result"
    }
   ],
   "source": [
    "skf = KFold(n_splits=5, shuffle=True)\n",
    "scores = list()\n",
    "for train_index, test_index in skf.split(X, y):\n",
    "    X_train, X_test = X.iloc[train_index, :], X.iloc[test_index, :]\n",
    "    y_train, y_test = y.iloc[train_index], y.iloc[test_index]\n",
    "    clf = MLPClassifier(hidden_layer_sizes=(15,), activation='logistic', solver='adam', max_iter=2000, random_state=13)\n",
    "    clf.fit(X_train, y_train)\n",
    "    y_pred = clf.predict(X_test)\n",
    "    scores.append(f1_score(y_test, y_pred))\n",
    "metrics.add_row([\"MLP\", \"hidden_layer_sizes = (15), activation = 'logistic', solver = 'adam'\", np.min(scores), np.mean(scores), np.max(scores)])  \n",
    "np.mean(scores), np.min(scores), np.max(scores)"
   ]
  },
  {
   "cell_type": "markdown",
   "id": "d02ce6d7-26a9-4f24-9bf1-f0ae79d29066",
   "metadata": {},
   "source": [
    "hidden_layer_sizes=(50, 25), activation='relu', solver='lbfgs"
   ]
  },
  {
   "cell_type": "code",
   "execution_count": 44,
   "id": "e5659706-d3a7-44ba-814f-68aa00e0ec7f",
   "metadata": {},
   "outputs": [
    {
     "data": {
      "text/plain": [
       "(0.9482617073487806, 0.9407185628742515, 0.9518870642466148)"
      ]
     },
     "execution_count": 44,
     "metadata": {},
     "output_type": "execute_result"
    }
   ],
   "source": [
    "skf = KFold(n_splits=5, shuffle=True)\n",
    "scores = list()\n",
    "for train_index, test_index in skf.split(X, y):\n",
    "    X_train, X_test = X.iloc[train_index, :], X.iloc[test_index, :]\n",
    "    y_train, y_test = y.iloc[train_index], y.iloc[test_index]\n",
    "    clf = MLPClassifier(hidden_layer_sizes=(50, 25), activation='relu', solver='adam', max_iter=2000, random_state=13, early_stopping=True)\n",
    "    clf.fit(X_train, y_train)\n",
    "    y_pred = clf.predict(X_test)\n",
    "    scores.append(f1_score(y_test, y_pred))\n",
    "metrics.add_row([\"MLP\", \"hidden_layer_sizes = (50,25), activation = 'relu', solver = 'adam', early_stopping = True\",np.min(scores), np.mean(scores), np.max(scores)])  \n",
    "np.mean(scores), np.min(scores), np.max(scores)"
   ]
  },
  {
   "cell_type": "code",
   "execution_count": 45,
   "id": "af90d48d-30ec-439b-8737-e4b7859fb652",
   "metadata": {},
   "outputs": [
    {
     "name": "stdout",
     "output_type": "stream",
     "text": [
      "+--------------+---------------------------------------------------------------------------------------------+--------+--------+--------+\n",
      "|  Algorithm   |                                          Parameters                                         |  Min   |  Avg   |  Max   |\n",
      "+--------------+---------------------------------------------------------------------------------------------+--------+--------+--------+\n",
      "| DecisionTree |                                     max_features = sqrt                                     | 0.8810 | 0.9220 | 0.9567 |\n",
      "| DecisionTree |                             max_features = sqrt, max_depth = 10                             | 0.8704 | 0.9197 | 0.9422 |\n",
      "| RandomForest |                                      n_estimators = 50                                      | 0.9741 | 0.9763 | 0.9795 |\n",
      "| RandomForest |                                    min_samples_split = 5                                    | 0.9717 | 0.9746 | 0.9784 |\n",
      "|     k-NN     |                                       n_neighbors = 10                                      | 0.9082 | 0.9092 | 0.9105 |\n",
      "|     k-NN     |                            n_neighbors = 5, weights = 'distance'                            | 0.9002 | 0.9094 | 0.9162 |\n",
      "|     MLP      |               hidden_layer_sizes = (10,), activation = 'relu', solver = 'adam'              | 0.9573 | 0.9586 | 0.9601 |\n",
      "|     MLP      |             hidden_layer_sizes = (20, 10), activation = 'relu', solver = 'adam'             | 0.9542 | 0.9578 | 0.9604 |\n",
      "|     MLP      |               hidden_layer_sizes = (10,), activation = 'tanh', solver = 'adam'              | 0.9531 | 0.9583 | 0.9616 |\n",
      "|     MLP      |               hidden_layer_sizes = (10,), activation = 'relu', solver = 'sgd'               | 0.9366 | 0.9458 | 0.9545 |\n",
      "|     MLP      |       hidden_layer_sizes = (10,), activation = 'relu', solver = 'adam', alpha = 0.001       | 0.9504 | 0.9589 | 0.9636 |\n",
      "|     MLP      |            hidden_layer_sizes = (50,25,10), activation = 'relu', solver = 'adam'            | 0.9411 | 0.9444 | 0.9516 |\n",
      "|     MLP      |              hidden_layer_sizes = (20,10), activation = 'tanh', solver = 'adam'             | 0.9468 | 0.9574 | 0.9644 |\n",
      "|     MLP      |              hidden_layer_sizes = (20,10), activation = 'tanh', solver = 'adam'             | 0.9539 | 0.9590 | 0.9651 |\n",
      "|     MLP      | hidden_layer_sizes = (10), activation = 'relu', solver = 'adam', learning_rate = 'adaptive' | 0.9554 | 0.9578 | 0.9606 |\n",
      "|     MLP      |             hidden_layer_sizes = (15), activation = 'logistic', solver = 'adam'             | 0.9566 | 0.9601 | 0.9642 |\n",
      "|     MLP      |  hidden_layer_sizes = (50,25), activation = 'relu', solver = 'adam', early_stopping = True  | 0.9407 | 0.9483 | 0.9519 |\n",
      "+--------------+---------------------------------------------------------------------------------------------+--------+--------+--------+\n"
     ]
    }
   ],
   "source": [
    "for row in metrics._rows:\n",
    "    row[2] = f\"{float(row[2]):.4f}\" \n",
    "    row[3] = f\"{float(row[3]):.4f}\"  \n",
    "    row[4] = f\"{float(row[4]):.4f}\"  \n",
    "\n",
    "print(metrics)"
   ]
  },
  {
   "cell_type": "markdown",
   "id": "915c35e9-e108-4234-80d8-b447e3fdba13",
   "metadata": {},
   "source": [
    "# **Conclusion**"
   ]
  },
  {
   "cell_type": "markdown",
   "id": "c7aae0b2-55c0-4025-9935-b1041959b831",
   "metadata": {},
   "source": [
    "I have tried several algorithms, including Decision Tree, Random Forest, and MLP, among others. Random Forest achieved the best results with an average F1 score of **0.9763**, demonstrating its suitability for churn prediction. This performance makes it a strong candidate for deployment in identifying customers at risk of attrition, enabling targeted retention strategies.\n",
    "\n",
    "The MLP algorithm showed solid performance with different configurations but required significant tuning and computational resources, which could limit its practicality. The Decision Tree model provided a baseline with good interpretability, though its performance was lower than that of the ensemble methods.\n",
    "\n",
    "Hyperparameter tuning was critical to improving model performance, particularly for the MLP."
   ]
  }
 ],
 "metadata": {
  "kernelspec": {
   "display_name": "Python 3 (ipykernel)",
   "language": "python",
   "name": "python3"
  },
  "language_info": {
   "codemirror_mode": {
    "name": "ipython",
    "version": 3
   },
   "file_extension": ".py",
   "mimetype": "text/x-python",
   "name": "python",
   "nbconvert_exporter": "python",
   "pygments_lexer": "ipython3",
   "version": "3.12.6"
  }
 },
 "nbformat": 4,
 "nbformat_minor": 5
}
